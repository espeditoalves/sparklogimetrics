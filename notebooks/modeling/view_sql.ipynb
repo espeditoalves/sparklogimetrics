{
 "cells": [
  {
   "cell_type": "code",
   "execution_count": 1,
   "metadata": {
    "id": "H02jOAtLOpQY"
   },
   "outputs": [],
   "source": [
    "from pyspark.sql import SparkSession\n",
    "spark = SparkSession.builder.master('local[*]').appName(\"Classificação com Spark 1.0\").getOrCreate()"
   ]
  },
  {
   "cell_type": "code",
   "execution_count": 2,
   "metadata": {
    "colab": {
     "base_uri": "https://localhost:8080/",
     "height": 219
    },
    "id": "YiVdw80-dQhs",
    "outputId": "88de605a-4e05-44b3-9fdf-70046a7d9e0b"
   },
   "outputs": [
    {
     "data": {
      "text/html": [
       "\n",
       "            <div>\n",
       "                <p><b>SparkSession - in-memory</b></p>\n",
       "                \n",
       "        <div>\n",
       "            <p><b>SparkContext</b></p>\n",
       "\n",
       "            <p><a href=\"http://89d8ebd82e45:4040\">Spark UI</a></p>\n",
       "\n",
       "            <dl>\n",
       "              <dt>Version</dt>\n",
       "                <dd><code>v3.4.1</code></dd>\n",
       "              <dt>Master</dt>\n",
       "                <dd><code>local[*]</code></dd>\n",
       "              <dt>AppName</dt>\n",
       "                <dd><code>Classificação com Spark 1.0</code></dd>\n",
       "            </dl>\n",
       "        </div>\n",
       "        \n",
       "            </div>\n",
       "        "
      ],
      "text/plain": [
       "<pyspark.sql.session.SparkSession at 0x7f10784b3c50>"
      ]
     },
     "execution_count": 2,
     "metadata": {},
     "output_type": "execute_result"
    }
   ],
   "source": [
    "spark"
   ]
  },
  {
   "cell_type": "code",
   "execution_count": 3,
   "metadata": {},
   "outputs": [],
   "source": [
    "import pandas as pd"
   ]
  },
  {
   "cell_type": "code",
   "execution_count": 4,
   "metadata": {},
   "outputs": [
    {
     "name": "stdout",
     "output_type": "stream",
     "text": [
      "Caminho do diretório atual: /home/jovyan/work\n",
      "Python executable: /home/jovyan/.cache/pypoetry/virtualenvs/sparklogimetrics-WFljCIXp-py3.11/bin/python\n"
     ]
    }
   ],
   "source": [
    "import os\n",
    "import sys\n",
    "\n",
    "# Exibir o caminho do diretório atual\n",
    "print(\"Caminho do diretório atual:\", os.getcwd())\n",
    "print(\"Python executable:\", sys.executable)"
   ]
  },
  {
   "cell_type": "markdown",
   "metadata": {},
   "source": [
    "## **1.2 Carregando as principais funções**"
   ]
  },
  {
   "cell_type": "code",
   "execution_count": 5,
   "metadata": {},
   "outputs": [],
   "source": [
    "from pyspark.sql import functions as F\n",
    "from pyspark.ml.feature import VectorAssembler\n",
    "from pyspark.ml.classification import LogisticRegression\n",
    "import pandas as pd\n",
    "from datetime import datetime\n",
    "import sys\n",
    "import os\n",
    "\n",
    "# Adiciona a pasta work ao sys.path\n",
    "sys.path.append('/home/jovyan/')\n"
   ]
  },
  {
   "cell_type": "markdown",
   "metadata": {
    "id": "BOQSXCsB-XJ4"
   },
   "source": [
    "## **1.3 Carregamento dos Dados**"
   ]
  },
  {
   "cell_type": "code",
   "execution_count": 7,
   "metadata": {},
   "outputs": [
    {
     "name": "stdout",
     "output_type": "stream",
     "text": [
      "Caminho do diretório atual: /home/jovyan/work\n",
      "Python executable: /home/jovyan/.cache/pypoetry/virtualenvs/sparklogimetrics-WFljCIXp-py3.11/bin/python\n"
     ]
    }
   ],
   "source": [
    "print(\"Caminho do diretório atual:\", os.getcwd())\n",
    "print(\"Python executable:\", sys.executable)"
   ]
  },
  {
   "cell_type": "code",
   "execution_count": 8,
   "metadata": {
    "id": "iIjhbXvgPMSy"
   },
   "outputs": [],
   "source": [
    "dados = spark.read.csv(f'data/raw/dados_clientes.csv', sep=',', header=True, inferSchema=True)"
   ]
  },
  {
   "cell_type": "code",
   "execution_count": 9,
   "metadata": {
    "colab": {
     "base_uri": "https://localhost:8080/"
    },
    "id": "bItkwybT-BOG",
    "outputId": "f62ea65e-e385-464f-dde0-a6b4af164e55"
   },
   "outputs": [
    {
     "data": {
      "text/plain": [
       "DataFrame[id: int, Churn: string, Mais65anos: int, Conjuge: string, Dependentes: string, MesesDeContrato: int, TelefoneFixo: string, MaisDeUmaLinhaTelefonica: string, Internet: string, SegurancaOnline: string, BackupOnline: string, SeguroDispositivo: string, SuporteTecnico: string, TVaCabo: string, StreamingFilmes: string, TipoContrato: string, ContaCorreio: string, MetodoPagamento: string, MesesCobrados: double]"
      ]
     },
     "execution_count": 9,
     "metadata": {},
     "output_type": "execute_result"
    }
   ],
   "source": [
    "dados"
   ]
  },
  {
   "cell_type": "code",
   "execution_count": 10,
   "metadata": {
    "colab": {
     "base_uri": "https://localhost:8080/"
    },
    "id": "WMx7nLWW-BIV",
    "outputId": "b07da952-7259-4596-8ea4-8568fb4b5e72"
   },
   "outputs": [
    {
     "name": "stdout",
     "output_type": "stream",
     "text": [
      "+---+-----+----------+-------+-----------+---------------+------------+------------------------+-----------+---------------+------------+-----------------+--------------+-------+---------------+------------+------------+----------------+-------------+\n",
      "| id|Churn|Mais65anos|Conjuge|Dependentes|MesesDeContrato|TelefoneFixo|MaisDeUmaLinhaTelefonica|   Internet|SegurancaOnline|BackupOnline|SeguroDispositivo|SuporteTecnico|TVaCabo|StreamingFilmes|TipoContrato|ContaCorreio| MetodoPagamento|MesesCobrados|\n",
      "+---+-----+----------+-------+-----------+---------------+------------+------------------------+-----------+---------------+------------+-----------------+--------------+-------+---------------+------------+------------+----------------+-------------+\n",
      "|  0|  Nao|         0|    Sim|        Nao|              1|         Nao|    SemServicoTelefonico|        DSL|            Nao|         Sim|              Nao|           Nao|    Nao|            Nao| Mensalmente|         Sim|BoletoEletronico|        29.85|\n",
      "|  1|  Nao|         0|    Nao|        Nao|             34|         Sim|                     Nao|        DSL|            Sim|         Nao|              Sim|           Nao|    Nao|            Nao|       UmAno|         Nao|          Boleto|        56.95|\n",
      "|  2|  Sim|         0|    Nao|        Nao|              2|         Sim|                     Nao|        DSL|            Sim|         Sim|              Nao|           Nao|    Nao|            Nao| Mensalmente|         Sim|          Boleto|        53.85|\n",
      "|  3|  Nao|         0|    Nao|        Nao|             45|         Nao|    SemServicoTelefonico|        DSL|            Sim|         Nao|              Sim|           Sim|    Nao|            Nao|       UmAno|         Nao|   DebitoEmConta|         42.3|\n",
      "|  4|  Sim|         0|    Nao|        Nao|              2|         Sim|                     Nao|FibraOptica|            Nao|         Nao|              Nao|           Nao|    Nao|            Nao| Mensalmente|         Sim|BoletoEletronico|         70.7|\n",
      "+---+-----+----------+-------+-----------+---------------+------------+------------------------+-----------+---------------+------------+-----------------+--------------+-------+---------------+------------+------------+----------------+-------------+\n",
      "only showing top 5 rows\n",
      "\n"
     ]
    }
   ],
   "source": [
    "dados.show(5)"
   ]
  },
  {
   "cell_type": "code",
   "execution_count": 11,
   "metadata": {},
   "outputs": [],
   "source": [
    "# Criando uma view temporária chamada 'clientes'\n",
    "dados.createOrReplaceTempView(\"clientes\")"
   ]
  },
  {
   "cell_type": "code",
   "execution_count": 16,
   "metadata": {},
   "outputs": [
    {
     "name": "stdout",
     "output_type": "stream",
     "text": [
      "+---+-----+----------+-------+-----------+---------------+------------+------------------------+-----------+------------------+------------------+------------------+------------------+------------------+------------------+------------+------------+----------------+-------------+\n",
      "| id|Churn|Mais65anos|Conjuge|Dependentes|MesesDeContrato|TelefoneFixo|MaisDeUmaLinhaTelefonica|   Internet|   SegurancaOnline|      BackupOnline| SeguroDispositivo|    SuporteTecnico|           TVaCabo|   StreamingFilmes|TipoContrato|ContaCorreio| MetodoPagamento|MesesCobrados|\n",
      "+---+-----+----------+-------+-----------+---------------+------------+------------------------+-----------+------------------+------------------+------------------+------------------+------------------+------------------+------------+------------+----------------+-------------+\n",
      "|  0|  Nao|         0|    Sim|        Nao|              1|         Nao|    SemServicoTelefonico|        DSL|               Nao|               Sim|               Nao|               Nao|               Nao|               Nao| Mensalmente|         Sim|BoletoEletronico|        29.85|\n",
      "|  8|  Sim|         0|    Sim|        Nao|             28|         Sim|                     Sim|FibraOptica|               Nao|               Nao|               Sim|               Sim|               Sim|               Sim| Mensalmente|         Sim|BoletoEletronico|        104.8|\n",
      "| 10|  Nao|         0|    Sim|        Sim|             13|         Sim|                     Nao|        DSL|               Sim|               Nao|               Nao|               Nao|               Nao|               Nao| Mensalmente|         Sim|          Boleto|        49.95|\n",
      "| 12|  Nao|         0|    Sim|        Nao|             58|         Sim|                     Sim|FibraOptica|               Nao|               Nao|               Sim|               Nao|               Sim|               Sim|       UmAno|         Nao|   CartaoCredito|       100.35|\n",
      "| 15|  Nao|         0|    Sim|        Sim|             69|         Sim|                     Sim|FibraOptica|               Sim|               Sim|               Sim|               Sim|               Sim|               Sim|    DoisAnos|         Nao|   CartaoCredito|       113.25|\n",
      "| 18|  Sim|         0|    Sim|        Sim|             10|         Sim|                     Nao|        DSL|               Nao|               Nao|               Sim|               Sim|               Nao|               Nao| Mensalmente|         Nao|   CartaoCredito|         55.2|\n",
      "| 21|  Nao|         0|    Sim|        Nao|             12|         Sim|                     Nao|        Nao|SemServicoInternet|SemServicoInternet|SemServicoInternet|SemServicoInternet|SemServicoInternet|SemServicoInternet|       UmAno|         Nao|   DebitoEmConta|         19.8|\n",
      "| 23|  Nao|         0|    Sim|        Nao|             58|         Sim|                     Sim|        DSL|               Nao|               Sim|               Nao|               Sim|               Nao|               Nao|    DoisAnos|         Sim|   CartaoCredito|         59.9|\n",
      "| 24|  Nao|         0|    Sim|        Sim|             49|         Sim|                     Nao|        DSL|               Sim|               Sim|               Nao|               Sim|               Nao|               Nao| Mensalmente|         Nao|   CartaoCredito|         59.6|\n",
      "| 26|  Sim|         0|    Sim|        Sim|             47|         Sim|                     Sim|FibraOptica|               Nao|               Sim|               Nao|               Nao|               Sim|               Sim| Mensalmente|         Sim|BoletoEletronico|        99.35|\n",
      "| 27|  Sim|         0|    Sim|        Sim|              1|         Nao|    SemServicoTelefonico|        DSL|               Nao|               Sim|               Nao|               Nao|               Nao|               Nao| Mensalmente|         Nao|BoletoEletronico|         30.2|\n",
      "| 28|  Nao|         0|    Sim|        Nao|             72|         Sim|                     Sim|        DSL|               Sim|               Sim|               Sim|               Sim|               Sim|               Sim|    DoisAnos|         Sim|   CartaoCredito|        90.25|\n",
      "| 30|  Nao|         1|    Sim|        Nao|             71|         Sim|                     Sim|FibraOptica|               Sim|               Sim|               Sim|               Sim|               Nao|               Nao|    DoisAnos|         Sim|   CartaoCredito|        96.35|\n",
      "| 31|  Nao|         1|    Sim|        Nao|              2|         Sim|                     Nao|FibraOptica|               Nao|               Nao|               Sim|               Nao|               Sim|               Sim| Mensalmente|         Sim|   CartaoCredito|         95.5|\n",
      "| 32|  Nao|         0|    Sim|        Sim|             27|         Sim|                     Nao|        DSL|               Sim|               Sim|               Sim|               Sim|               Nao|               Nao|       UmAno|         Nao|          Boleto|        66.15|\n",
      "| 35|  Nao|         0|    Sim|        Sim|             72|         Sim|                     Sim|FibraOptica|               Sim|               Sim|               Nao|               Sim|               Sim|               Nao|    DoisAnos|         Nao|   DebitoEmConta|         99.9|\n",
      "| 40|  Nao|         0|    Sim|        Sim|             10|         Sim|                     Nao|        DSL|               Nao|               Sim|               Nao|               Nao|               Nao|               Nao|       UmAno|         Nao|          Boleto|        49.55|\n",
      "| 41|  Nao|         0|    Sim|        Sim|             70|         Sim|                     Sim|        DSL|               Sim|               Sim|               Nao|               Nao|               Sim|               Nao|    DoisAnos|         Sim|   CartaoCredito|         69.2|\n",
      "| 42|  Nao|         0|    Sim|        Sim|             17|         Sim|                     Nao|        Nao|SemServicoInternet|SemServicoInternet|SemServicoInternet|SemServicoInternet|SemServicoInternet|SemServicoInternet|       UmAno|         Nao|          Boleto|        20.75|\n",
      "| 44|  Nao|         0|    Sim|        Nao|             13|         Sim|                     Sim|        DSL|               Sim|               Sim|               Nao|               Sim|               Sim|               Nao| Mensalmente|         Sim|BoletoEletronico|         76.2|\n",
      "+---+-----+----------+-------+-----------+---------------+------------+------------------------+-----------+------------------+------------------+------------------+------------------+------------------+------------------+------------+------------+----------------+-------------+\n",
      "only showing top 20 rows\n",
      "\n"
     ]
    }
   ],
   "source": [
    "resultado = spark.sql(\"SELECT * FROM clientes WHERE Conjuge = 'Sim'\")\n",
    "resultado.show()\n"
   ]
  }
 ],
 "metadata": {
  "colab": {
   "collapsed_sections": [
    "BsjP6Rz-sRkn"
   ],
   "name": "projeto.ipynb",
   "provenance": []
  },
  "kernelspec": {
   "display_name": "Python (Sparklogimetrics)",
   "language": "python",
   "name": "sparklogimetrics"
  },
  "language_info": {
   "codemirror_mode": {
    "name": "ipython",
    "version": 3
   },
   "file_extension": ".py",
   "mimetype": "text/x-python",
   "name": "python",
   "nbconvert_exporter": "python",
   "pygments_lexer": "ipython3",
   "version": "3.11.5"
  }
 },
 "nbformat": 4,
 "nbformat_minor": 4
}
