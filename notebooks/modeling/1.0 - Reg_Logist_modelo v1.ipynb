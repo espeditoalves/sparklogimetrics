{
 "cells": [
  {
   "cell_type": "markdown",
   "metadata": {
    "tags": []
   },
   "source": [
    "# **1. Introdução**"
   ]
  },
  {
   "cell_type": "markdown",
   "metadata": {},
   "source": [
    "A regressão logística é um método popular para prever uma resposta categórica. É um caso especial de modelos Lineares Generalizados que prevê a probabilidade dos resultados. Em `spark.ml`, a regressão logística pode ser usada para prever um resultado binário usando regressão logística binomial ou pode ser usada para prever um resultado multiclasse usando regressão logística multinomial. Use o parâmetro `family` para selecionar entre esses dois algoritmos ou deixe-o indefinido e o Spark inferirá a variante correta.\n",
    "\n",
    "<font size=2>**Fonte:** [MLlib](https://spark.apache.org/docs/latest/ml-classification-regression.html#logistic-regression)</font>"
   ]
  },
  {
   "cell_type": "markdown",
   "metadata": {},
   "source": [
    " <img src=\"https://miro.medium.com/max/1400/0*1KnKYuv0UDu_1-qM.gif?width=1191&height=670\" alt=\"Minha Figura\">"
   ]
  },
  {
   "cell_type": "markdown",
   "metadata": {},
   "source": [
    "## **1.1 Carregando o pyspark**"
   ]
  },
  {
   "cell_type": "code",
   "execution_count": 1,
   "metadata": {
    "id": "H02jOAtLOpQY"
   },
   "outputs": [],
   "source": [
    "from pyspark.sql import SparkSession\n",
    "spark = SparkSession.builder.master('local[*]').appName(\"Classificação com Spark 1.1 - v1\").getOrCreate()"
   ]
  },
  {
   "cell_type": "code",
   "execution_count": 2,
   "metadata": {
    "colab": {
     "base_uri": "https://localhost:8080/",
     "height": 219
    },
    "id": "YiVdw80-dQhs",
    "outputId": "88de605a-4e05-44b3-9fdf-70046a7d9e0b"
   },
   "outputs": [
    {
     "data": {
      "text/html": [
       "\n",
       "            <div>\n",
       "                <p><b>SparkSession - in-memory</b></p>\n",
       "                \n",
       "        <div>\n",
       "            <p><b>SparkContext</b></p>\n",
       "\n",
       "            <p><a href=\"http://48912d32ce88:4043\">Spark UI</a></p>\n",
       "\n",
       "            <dl>\n",
       "              <dt>Version</dt>\n",
       "                <dd><code>v3.3.2</code></dd>\n",
       "              <dt>Master</dt>\n",
       "                <dd><code>local[*]</code></dd>\n",
       "              <dt>AppName</dt>\n",
       "                <dd><code>Classificação com Spark 1.1 - v1</code></dd>\n",
       "            </dl>\n",
       "        </div>\n",
       "        \n",
       "            </div>\n",
       "        "
      ],
      "text/plain": [
       "<pyspark.sql.session.SparkSession at 0x7fa7b5d34940>"
      ]
     },
     "execution_count": 2,
     "metadata": {},
     "output_type": "execute_result"
    }
   ],
   "source": [
    "spark"
   ]
  },
  {
   "cell_type": "markdown",
   "metadata": {
    "tags": []
   },
   "source": [
    "## **1.2 Carregando as principais funções**"
   ]
  },
  {
   "cell_type": "code",
   "execution_count": 3,
   "metadata": {},
   "outputs": [],
   "source": [
    "from pyspark.sql import functions as F\n",
    "from pyspark.ml.feature import VectorAssembler\n",
    "from pyspark.ml.classification import LogisticRegression\n",
    "import pandas as pd\n",
    "from datetime import datetime\n",
    "import sys\n",
    "import os\n",
    "\n",
    "# Adiciona a pasta work ao sys.path\n",
    "sys.path.append('/home/jovyan/')\n",
    "\n",
    "from work.src.utils import *\n",
    "start_time = datetime.now()\n",
    "\n",
    "\n",
    "n = 'best_lr_model'\n",
    "caminho_modelo = 'work/models'"
   ]
  },
  {
   "cell_type": "markdown",
   "metadata": {
    "id": "BOQSXCsB-XJ4",
    "tags": []
   },
   "source": [
    "## **1.3 Carregamento dos Dados**"
   ]
  },
  {
   "cell_type": "code",
   "execution_count": 4,
   "metadata": {
    "id": "iIjhbXvgPMSy"
   },
   "outputs": [],
   "source": [
    "dados = spark.read.csv(f'work/data/raw/dados_clientes.csv', sep=',', header=True, inferSchema=True)"
   ]
  },
  {
   "cell_type": "code",
   "execution_count": 5,
   "metadata": {
    "colab": {
     "base_uri": "https://localhost:8080/"
    },
    "id": "bItkwybT-BOG",
    "outputId": "f62ea65e-e385-464f-dde0-a6b4af164e55"
   },
   "outputs": [
    {
     "data": {
      "text/plain": [
       "DataFrame[id: int, Churn: string, Mais65anos: int, Conjuge: string, Dependentes: string, MesesDeContrato: int, TelefoneFixo: string, MaisDeUmaLinhaTelefonica: string, Internet: string, SegurancaOnline: string, BackupOnline: string, SeguroDispositivo: string, SuporteTecnico: string, TVaCabo: string, StreamingFilmes: string, TipoContrato: string, ContaCorreio: string, MetodoPagamento: string, MesesCobrados: double]"
      ]
     },
     "execution_count": 5,
     "metadata": {},
     "output_type": "execute_result"
    }
   ],
   "source": [
    "dados"
   ]
  },
  {
   "cell_type": "code",
   "execution_count": 6,
   "metadata": {
    "colab": {
     "base_uri": "https://localhost:8080/"
    },
    "id": "WMx7nLWW-BIV",
    "outputId": "b07da952-7259-4596-8ea4-8568fb4b5e72"
   },
   "outputs": [
    {
     "name": "stdout",
     "output_type": "stream",
     "text": [
      "+---+-----+----------+-------+-----------+---------------+------------+------------------------+-----------+------------------+------------------+------------------+------------------+------------------+------------------+------------+------------+----------------+-------------+\n",
      "| id|Churn|Mais65anos|Conjuge|Dependentes|MesesDeContrato|TelefoneFixo|MaisDeUmaLinhaTelefonica|   Internet|   SegurancaOnline|      BackupOnline| SeguroDispositivo|    SuporteTecnico|           TVaCabo|   StreamingFilmes|TipoContrato|ContaCorreio| MetodoPagamento|MesesCobrados|\n",
      "+---+-----+----------+-------+-----------+---------------+------------+------------------------+-----------+------------------+------------------+------------------+------------------+------------------+------------------+------------+------------+----------------+-------------+\n",
      "|  0|  Nao|         0|    Sim|        Nao|              1|         Nao|    SemServicoTelefonico|        DSL|               Nao|               Sim|               Nao|               Nao|               Nao|               Nao| Mensalmente|         Sim|BoletoEletronico|        29.85|\n",
      "|  1|  Nao|         0|    Nao|        Nao|             34|         Sim|                     Nao|        DSL|               Sim|               Nao|               Sim|               Nao|               Nao|               Nao|       UmAno|         Nao|          Boleto|        56.95|\n",
      "|  2|  Sim|         0|    Nao|        Nao|              2|         Sim|                     Nao|        DSL|               Sim|               Sim|               Nao|               Nao|               Nao|               Nao| Mensalmente|         Sim|          Boleto|        53.85|\n",
      "|  3|  Nao|         0|    Nao|        Nao|             45|         Nao|    SemServicoTelefonico|        DSL|               Sim|               Nao|               Sim|               Sim|               Nao|               Nao|       UmAno|         Nao|   DebitoEmConta|         42.3|\n",
      "|  4|  Sim|         0|    Nao|        Nao|              2|         Sim|                     Nao|FibraOptica|               Nao|               Nao|               Nao|               Nao|               Nao|               Nao| Mensalmente|         Sim|BoletoEletronico|         70.7|\n",
      "|  5|  Sim|         0|    Nao|        Nao|              8|         Sim|                     Sim|FibraOptica|               Nao|               Nao|               Sim|               Nao|               Sim|               Sim| Mensalmente|         Sim|BoletoEletronico|        99.65|\n",
      "|  6|  Nao|         0|    Nao|        Sim|             22|         Sim|                     Sim|FibraOptica|               Nao|               Sim|               Nao|               Nao|               Sim|               Nao| Mensalmente|         Sim|   CartaoCredito|         89.1|\n",
      "|  7|  Nao|         0|    Nao|        Nao|             10|         Nao|    SemServicoTelefonico|        DSL|               Sim|               Nao|               Nao|               Nao|               Nao|               Nao| Mensalmente|         Nao|          Boleto|        29.75|\n",
      "|  8|  Sim|         0|    Sim|        Nao|             28|         Sim|                     Sim|FibraOptica|               Nao|               Nao|               Sim|               Sim|               Sim|               Sim| Mensalmente|         Sim|BoletoEletronico|        104.8|\n",
      "|  9|  Nao|         0|    Nao|        Sim|             62|         Sim|                     Nao|        DSL|               Sim|               Sim|               Nao|               Nao|               Nao|               Nao|       UmAno|         Nao|   DebitoEmConta|        56.15|\n",
      "| 10|  Nao|         0|    Sim|        Sim|             13|         Sim|                     Nao|        DSL|               Sim|               Nao|               Nao|               Nao|               Nao|               Nao| Mensalmente|         Sim|          Boleto|        49.95|\n",
      "| 11|  Nao|         0|    Nao|        Nao|             16|         Sim|                     Nao|        Nao|SemServicoInternet|SemServicoInternet|SemServicoInternet|SemServicoInternet|SemServicoInternet|SemServicoInternet|    DoisAnos|         Nao|   CartaoCredito|        18.95|\n",
      "| 12|  Nao|         0|    Sim|        Nao|             58|         Sim|                     Sim|FibraOptica|               Nao|               Nao|               Sim|               Nao|               Sim|               Sim|       UmAno|         Nao|   CartaoCredito|       100.35|\n",
      "| 13|  Sim|         0|    Nao|        Nao|             49|         Sim|                     Sim|FibraOptica|               Nao|               Sim|               Sim|               Nao|               Sim|               Sim| Mensalmente|         Sim|   DebitoEmConta|        103.7|\n",
      "| 14|  Nao|         0|    Nao|        Nao|             25|         Sim|                     Nao|FibraOptica|               Sim|               Nao|               Sim|               Sim|               Sim|               Sim| Mensalmente|         Sim|BoletoEletronico|        105.5|\n",
      "| 15|  Nao|         0|    Sim|        Sim|             69|         Sim|                     Sim|FibraOptica|               Sim|               Sim|               Sim|               Sim|               Sim|               Sim|    DoisAnos|         Nao|   CartaoCredito|       113.25|\n",
      "| 16|  Nao|         0|    Nao|        Nao|             52|         Sim|                     Nao|        Nao|SemServicoInternet|SemServicoInternet|SemServicoInternet|SemServicoInternet|SemServicoInternet|SemServicoInternet|       UmAno|         Nao|          Boleto|        20.65|\n",
      "| 17|  Nao|         0|    Nao|        Sim|             71|         Sim|                     Sim|FibraOptica|               Sim|               Nao|               Sim|               Nao|               Sim|               Sim|    DoisAnos|         Nao|   DebitoEmConta|        106.7|\n",
      "| 18|  Sim|         0|    Sim|        Sim|             10|         Sim|                     Nao|        DSL|               Nao|               Nao|               Sim|               Sim|               Nao|               Nao| Mensalmente|         Nao|   CartaoCredito|         55.2|\n",
      "| 19|  Nao|         0|    Nao|        Nao|             21|         Sim|                     Nao|FibraOptica|               Nao|               Sim|               Sim|               Nao|               Nao|               Sim| Mensalmente|         Sim|BoletoEletronico|        90.05|\n",
      "+---+-----+----------+-------+-----------+---------------+------------+------------------------+-----------+------------------+------------------+------------------+------------------+------------------+------------------+------------+------------+----------------+-------------+\n",
      "only showing top 20 rows\n",
      "\n"
     ]
    }
   ],
   "source": [
    "dados.show()"
   ]
  },
  {
   "cell_type": "code",
   "execution_count": 7,
   "metadata": {
    "colab": {
     "base_uri": "https://localhost:8080/"
    },
    "id": "DyXF17Oo-BCw",
    "outputId": "755b6592-55cb-4a26-820e-0010b338959e"
   },
   "outputs": [
    {
     "data": {
      "text/plain": [
       "10348"
      ]
     },
     "execution_count": 7,
     "metadata": {},
     "output_type": "execute_result"
    }
   ],
   "source": [
    "dados.count()"
   ]
  },
  {
   "cell_type": "code",
   "execution_count": 8,
   "metadata": {
    "colab": {
     "base_uri": "https://localhost:8080/"
    },
    "id": "wOXJOUgGpi9z",
    "outputId": "571125be-1f1d-41d6-c30e-d0d41bbb3ea5"
   },
   "outputs": [
    {
     "name": "stdout",
     "output_type": "stream",
     "text": [
      "+-----+-----+\n",
      "|Churn|count|\n",
      "+-----+-----+\n",
      "|  Sim| 5174|\n",
      "|  Nao| 5174|\n",
      "+-----+-----+\n",
      "\n"
     ]
    }
   ],
   "source": [
    "dados.groupBy('Churn').count().show()"
   ]
  },
  {
   "cell_type": "code",
   "execution_count": 9,
   "metadata": {
    "colab": {
     "base_uri": "https://localhost:8080/"
    },
    "id": "K18E1wBo9A8P",
    "outputId": "21bcd3f5-a8b0-4af2-c9cd-0acfae3ab3c1"
   },
   "outputs": [
    {
     "name": "stdout",
     "output_type": "stream",
     "text": [
      "root\n",
      " |-- id: integer (nullable = true)\n",
      " |-- Churn: string (nullable = true)\n",
      " |-- Mais65anos: integer (nullable = true)\n",
      " |-- Conjuge: string (nullable = true)\n",
      " |-- Dependentes: string (nullable = true)\n",
      " |-- MesesDeContrato: integer (nullable = true)\n",
      " |-- TelefoneFixo: string (nullable = true)\n",
      " |-- MaisDeUmaLinhaTelefonica: string (nullable = true)\n",
      " |-- Internet: string (nullable = true)\n",
      " |-- SegurancaOnline: string (nullable = true)\n",
      " |-- BackupOnline: string (nullable = true)\n",
      " |-- SeguroDispositivo: string (nullable = true)\n",
      " |-- SuporteTecnico: string (nullable = true)\n",
      " |-- TVaCabo: string (nullable = true)\n",
      " |-- StreamingFilmes: string (nullable = true)\n",
      " |-- TipoContrato: string (nullable = true)\n",
      " |-- ContaCorreio: string (nullable = true)\n",
      " |-- MetodoPagamento: string (nullable = true)\n",
      " |-- MesesCobrados: double (nullable = true)\n",
      "\n"
     ]
    }
   ],
   "source": [
    "dados.printSchema()"
   ]
  },
  {
   "cell_type": "markdown",
   "metadata": {
    "tags": []
   },
   "source": [
    "## **1.4 Separa treino e validação e teste**"
   ]
  },
  {
   "cell_type": "code",
   "execution_count": 10,
   "metadata": {
    "tags": []
   },
   "outputs": [],
   "source": [
    "# Divida o DataFrame em 3 partes: treino (60%), validação (20%) e teste (20%)\n",
    "train_df, val_df, test_df = dados.randomSplit([0.6, 0.2, 0.2], seed=101)"
   ]
  },
  {
   "cell_type": "code",
   "execution_count": 11,
   "metadata": {
    "tags": []
   },
   "outputs": [
    {
     "name": "stdout",
     "output_type": "stream",
     "text": [
      "train_df: 6182\n",
      "val_df: 2080\n",
      "test_df: 2086\n"
     ]
    }
   ],
   "source": [
    "print(f'train_df: {train_df.count()}')\n",
    "print(f'val_df: {val_df.count()}')\n",
    "print(f'test_df: {test_df.count()}')"
   ]
  },
  {
   "cell_type": "markdown",
   "metadata": {
    "id": "blFAMaSBVV2u",
    "tags": []
   },
   "source": [
    "## **1.5 Transformando os Dados**"
   ]
  },
  {
   "cell_type": "code",
   "execution_count": 12,
   "metadata": {
    "colab": {
     "base_uri": "https://localhost:8080/"
    },
    "id": "E_Hs2oXj9-pq",
    "outputId": "03d2ce60-ac96-473f-ca50-a646b1edf339"
   },
   "outputs": [],
   "source": [
    "def transform_df(df: DataFrame) -> DataFrame:\n",
    "    \"\"\"\n",
    "    Aplica transformação ao DataFrame para pivotar e renomear colunas categóricas, e remover colunas originais.\n",
    "\n",
    "    Args:\n",
    "        df (DataFrame): DataFrame que será transformado.\n",
    "\n",
    "    Returns:\n",
    "        DataFrame: DataFrame transformado.\n",
    "    \"\"\"\n",
    "    # Lista das colunas binárias\n",
    "    colunasBinarias = [\n",
    "        'Churn',\n",
    "        'Conjuge',\n",
    "        'Dependentes',\n",
    "        'TelefoneFixo',\n",
    "        'MaisDeUmaLinhaTelefonica',\n",
    "        'SegurancaOnline',\n",
    "        'BackupOnline',\n",
    "        'SeguroDispositivo',\n",
    "        'SuporteTecnico',\n",
    "        'TVaCabo',\n",
    "        'StreamingFilmes',\n",
    "        'ContaCorreio'\n",
    "    ]\n",
    "\n",
    "    # Criação da lista das transformações para as colunas binárias\n",
    "    colunasBinarias_transformadas = [ F.when(F.col(c) == 'Sim', 1).otherwise(0).alias(c) for c in colunasBinarias if c in train_df.columns]\n",
    "\n",
    "    # Criação da lista das colunas originais que não são binárias\n",
    "    colunas_outras = [F.col(c) for c in train_df.columns if c not in colunasBinarias]\n",
    "    \n",
    "    df_binario = df.select(*[colunas_outras + colunasBinarias_transformadas])\n",
    "    \n",
    "    # Pivotagem e transformação das colunas categóricas\n",
    "    Internet = df_binario.groupBy('id').pivot('Internet').agg(F.lit(1)).na.fill(0)\n",
    "    TipoContrato = df_binario.groupBy('id').pivot('TipoContrato').agg(F.lit(1)).na.fill(0)\n",
    "    MetodoPagamento = df_binario.groupBy('id').pivot('MetodoPagamento').agg(F.lit(1)).na.fill(0)\n",
    "\n",
    "    # Aplicando as transformações ao DataFrame\n",
    "    df_transformed = df_binario\\\n",
    "        .join(Internet, 'id', how='inner')\\\n",
    "        .join(TipoContrato, 'id', how='inner')\\\n",
    "        .join(MetodoPagamento, 'id', how='inner')\\\n",
    "        .select(\n",
    "            '*',\n",
    "            F.col('DSL').alias('Internet_DSL'), \n",
    "            F.col('FibraOptica').alias('Internet_FibraOptica'), \n",
    "            F.col('Nao').alias('Internet_Nao'), \n",
    "            F.col('Mensalmente').alias('TipoContrato_Mensalmente'), \n",
    "            F.col('UmAno').alias('TipoContrato_UmAno'), \n",
    "            F.col('DoisAnos').alias('TipoContrato_DoisAnos'), \n",
    "            F.col('DebitoEmConta').alias('MetodoPagamento_DebitoEmConta'), \n",
    "            F.col('CartaoCredito').alias('MetodoPagamento_CartaoCredito'), \n",
    "            F.col('BoletoEletronico').alias('MetodoPagamento_BoletoEletronico'), \n",
    "            F.col('Boleto').alias('MetodoPagamento_Boleto')        \n",
    "        )\\\n",
    "        .drop(\n",
    "            'Internet', 'TipoContrato', 'MetodoPagamento', 'DSL', \n",
    "            'FibraOptica', 'Nao', 'Mensalmente', 'UmAno', 'DoisAnos', \n",
    "            'DebitoEmConta', 'CartaoCredito', 'BoletoEletronico', 'Boleto'\n",
    "        )\n",
    "    \n",
    "    return df_transformed\n"
   ]
  },
  {
   "cell_type": "code",
   "execution_count": 13,
   "metadata": {
    "colab": {
     "base_uri": "https://localhost:8080/"
    },
    "id": "DFJx294nMCit",
    "outputId": "0bd71d3f-b641-40fe-c7f0-98ddb2a6a4a2"
   },
   "outputs": [],
   "source": [
    "# Aplicar a transformação aos três DataFrames\n",
    "train_df_transformed = transform_df(train_df)\n",
    "val_df_transformed = transform_df(val_df)\n",
    "test_df_transformed = transform_df(test_df)"
   ]
  },
  {
   "cell_type": "code",
   "execution_count": 14,
   "metadata": {},
   "outputs": [
    {
     "name": "stdout",
     "output_type": "stream",
     "text": [
      "train_df_transformed: 6182\n",
      "val_df_transformed: 2080\n",
      "test_df_transformed: 2086\n"
     ]
    }
   ],
   "source": [
    "print(f'train_df_transformed: {train_df_transformed.count()}')\n",
    "print(f'val_df_transformed: {val_df_transformed.count()}')\n",
    "print(f'test_df_transformed: {test_df_transformed.count()}')"
   ]
  },
  {
   "cell_type": "code",
   "execution_count": 15,
   "metadata": {
    "colab": {
     "base_uri": "https://localhost:8080/"
    },
    "id": "Z5cSmXRCvmEC",
    "outputId": "e2f8b35d-702e-49e0-8f8f-0eaf0310d157",
    "tags": []
   },
   "outputs": [],
   "source": [
    "# train_df_transformed.show(3)\n",
    "# +----+----------+---------------+-----------------+-----+-------+-----------+------------+------------------------+---------------+------------+-----------------+--------------+-------+---------------+------------+------------+--------------------+------------+------------------------+------------------+---------------------+-----------------------------+-----------------------------+--------------------------------+----------------------+\n",
    "# |  id|Mais65anos|MesesDeContrato|    MesesCobrados|Churn|Conjuge|Dependentes|TelefoneFixo|MaisDeUmaLinhaTelefonica|SegurancaOnline|BackupOnline|SeguroDispositivo|SuporteTecnico|TVaCabo|StreamingFilmes|ContaCorreio|Internet_DSL|Internet_FibraOptica|Internet_Nao|TipoContrato_Mensalmente|TipoContrato_UmAno|TipoContrato_DoisAnos|MetodoPagamento_DebitoEmConta|MetodoPagamento_CartaoCredito|MetodoPagamento_BoletoEletronico|MetodoPagamento_Boleto|\n",
    "# +----+----------+---------------+-----------------+-----+-------+-----------+------------+------------------------+---------------+------------+-----------------+--------------+-------+---------------+------------+------------+--------------------+------------+------------------------+------------------+---------------------+-----------------------------+-----------------------------+--------------------------------+----------------------+\n",
    "# |7982|         0|              1|45.30540797610398|    1|      0|          0|           0|                       0|              0|           0|                0|             0|      1|              1|           1|           1|                   0|           0|                       1|                 0|                    0|                            0|                            0|                               1|                     0|\n",
    "# |6654|         0|              7|             86.5|    1|      1|          0|           1|                       1|              0|           0|                0|             0|      1|              0|           1|           0|                   1|           0|                       1|                 0|                    0|                            0|                            0|                               1|                     0|\n",
    "# |7880|         0|             14|85.03742670311915|    1|      0|          0|           1|                       1|              0|           0|                0|             0|      0|              1|           1|           0|                   1|           0|                       1|                 0|                    0|                            0|                            0|                               1|                     0|\n",
    "# +----+----------+---------------+-----------------+-----+-------+-----------+------------+------------------------+---------------+------------+-----------------+--------------+-------+---------------+------------+------------+--------------------+------------+------------------------+------------------+---------------------+-----------------------------+-----------------------------+--------------------------------+----------------------+"
   ]
  },
  {
   "cell_type": "code",
   "execution_count": 16,
   "metadata": {
    "tags": []
   },
   "outputs": [
    {
     "name": "stdout",
     "output_type": "stream",
     "text": [
      "root\n",
      " |-- id: integer (nullable = true)\n",
      " |-- Mais65anos: integer (nullable = true)\n",
      " |-- MesesDeContrato: integer (nullable = true)\n",
      " |-- MesesCobrados: double (nullable = true)\n",
      " |-- Churn: integer (nullable = false)\n",
      " |-- Conjuge: integer (nullable = false)\n",
      " |-- Dependentes: integer (nullable = false)\n",
      " |-- TelefoneFixo: integer (nullable = false)\n",
      " |-- MaisDeUmaLinhaTelefonica: integer (nullable = false)\n",
      " |-- SegurancaOnline: integer (nullable = false)\n",
      " |-- BackupOnline: integer (nullable = false)\n",
      " |-- SeguroDispositivo: integer (nullable = false)\n",
      " |-- SuporteTecnico: integer (nullable = false)\n",
      " |-- TVaCabo: integer (nullable = false)\n",
      " |-- StreamingFilmes: integer (nullable = false)\n",
      " |-- ContaCorreio: integer (nullable = false)\n",
      " |-- Internet_DSL: integer (nullable = true)\n",
      " |-- Internet_FibraOptica: integer (nullable = true)\n",
      " |-- Internet_Nao: integer (nullable = true)\n",
      " |-- TipoContrato_Mensalmente: integer (nullable = true)\n",
      " |-- TipoContrato_UmAno: integer (nullable = true)\n",
      " |-- TipoContrato_DoisAnos: integer (nullable = true)\n",
      " |-- MetodoPagamento_DebitoEmConta: integer (nullable = true)\n",
      " |-- MetodoPagamento_CartaoCredito: integer (nullable = true)\n",
      " |-- MetodoPagamento_BoletoEletronico: integer (nullable = true)\n",
      " |-- MetodoPagamento_Boleto: integer (nullable = true)\n",
      "\n"
     ]
    }
   ],
   "source": [
    "train_df_transformed.printSchema()"
   ]
  },
  {
   "cell_type": "markdown",
   "metadata": {
    "id": "5kUibAFIoGh4",
    "tags": []
   },
   "source": [
    "# **2. Treinamento do modelo**"
   ]
  },
  {
   "cell_type": "code",
   "execution_count": 17,
   "metadata": {
    "id": "jM17gf-lxP9l"
   },
   "outputs": [],
   "source": [
    "def data_prep(df_transformed):\n",
    "    df_transformed = df_transformed.withColumnRenamed('Churn', 'label')\n",
    "    X = df_transformed.columns\n",
    "    X.remove('label')\n",
    "    X.remove('id')\n",
    "    assembler = VectorAssembler(inputCols=X, outputCol='features')\n",
    "    df_prep = assembler.transform(df_transformed).select('features', 'label')\n",
    "    return df_prep"
   ]
  },
  {
   "cell_type": "code",
   "execution_count": 18,
   "metadata": {
    "id": "IrzIGYls0wYX"
   },
   "outputs": [],
   "source": [
    "train_df_transformed_prep = data_prep(train_df_transformed)\n",
    "val_df_transformed_prep = data_prep(val_df_transformed)\n",
    "test_df_transformed_prep = data_prep(test_df_transformed)"
   ]
  },
  {
   "cell_type": "code",
   "execution_count": 19,
   "metadata": {
    "tags": []
   },
   "outputs": [],
   "source": [
    "# train_df_transformed.show(3)\n",
    "# +----+----------+---------------+-----------------+-----+-------+-----------+------------+------------------------+---------------+------------+-----------------+--------------+-------+---------------+------------+------------+--------------------+------------+------------------------+------------------+---------------------+-----------------------------+-----------------------------+--------------------------------+----------------------+\n",
    "# |  id|Mais65anos|MesesDeContrato|    MesesCobrados|label|Conjuge|Dependentes|TelefoneFixo|MaisDeUmaLinhaTelefonica|SegurancaOnline|BackupOnline|SeguroDispositivo|SuporteTecnico|TVaCabo|StreamingFilmes|ContaCorreio|Internet_DSL|Internet_FibraOptica|Internet_Nao|TipoContrato_Mensalmente|TipoContrato_UmAno|TipoContrato_DoisAnos|MetodoPagamento_DebitoEmConta|MetodoPagamento_CartaoCredito|MetodoPagamento_BoletoEletronico|MetodoPagamento_Boleto|\n",
    "# +----+----------+---------------+-----------------+-----+-------+-----------+------------+------------------------+---------------+------------+-----------------+--------------+-------+---------------+------------+------------+--------------------+------------+------------------------+------------------+---------------------+-----------------------------+-----------------------------+--------------------------------+----------------------+\n",
    "# |7982|         0|              1|45.30540797610398|    1|      0|          0|           0|                       0|              0|           0|                0|             0|      1|              1|           1|           1|                   0|           0|                       1|                 0|                    0|                            0|                            0|                               1|                     0|\n",
    "# |6654|         0|              7|             86.5|    1|      1|          0|           1|                       1|              0|           0|                0|             0|      1|              0|           1|           0|                   1|           0|                       1|                 0|                    0|                            0|                            0|                               1|                     0|\n",
    "# |7880|         0|             14|85.03742670311915|    1|      0|          0|           1|                       1|              0|           0|                0|             0|      0|              1|           1|           0|                   1|           0|                       1|                 0|                    0|                            0|                            0|                               1|                     0|\n",
    "# +----+----------+---------------+-----------------+-----+-------+-----------+------------+------------------------+---------------+------------+-----------------+--------------+-------+---------------+------------+------------+--------------------+------------+------------------------+------------------+---------------------+-----------------------------+-----------------------------+--------------------------------+----------------------+"
   ]
  },
  {
   "cell_type": "code",
   "execution_count": 20,
   "metadata": {
    "colab": {
     "base_uri": "https://localhost:8080/"
    },
    "id": "ZV3kDEbc14IM",
    "outputId": "bde635a8-8bf6-4493-b4e5-937b5feb3b53"
   },
   "outputs": [
    {
     "name": "stdout",
     "output_type": "stream",
     "text": [
      "+----------------------------------------------------------------------------------+-----+\n",
      "|features                                                                          |label|\n",
      "+----------------------------------------------------------------------------------+-----+\n",
      "|(24,[1,2,11,12,13,14,17,22],[1.0,45.30540797610398,1.0,1.0,1.0,1.0,1.0,1.0])      |1    |\n",
      "|(24,[1,2,3,5,6,11,13,15,17,22],[7.0,86.5,1.0,1.0,1.0,1.0,1.0,1.0,1.0,1.0])        |1    |\n",
      "|(24,[1,2,5,6,12,13,15,17,22],[14.0,85.03742670311915,1.0,1.0,1.0,1.0,1.0,1.0,1.0])|1    |\n",
      "+----------------------------------------------------------------------------------+-----+\n",
      "only showing top 3 rows\n",
      "\n"
     ]
    }
   ],
   "source": [
    "train_df_transformed_prep.show(3, truncate=False)"
   ]
  },
  {
   "cell_type": "code",
   "execution_count": 21,
   "metadata": {
    "tags": []
   },
   "outputs": [
    {
     "name": "stdout",
     "output_type": "stream",
     "text": [
      "+-----+-----+\n",
      "|label|count|\n",
      "+-----+-----+\n",
      "|    1| 3068|\n",
      "|    0| 3114|\n",
      "+-----+-----+\n",
      "\n"
     ]
    }
   ],
   "source": [
    "train_df_transformed_prep.groupBy('label').count().show()\n",
    "# +-----+-----+\n",
    "# |label|count|\n",
    "# +-----+-----+\n",
    "# |    1| 3068|\n",
    "# |    0| 3114|\n",
    "# +-----+-----+"
   ]
  },
  {
   "cell_type": "markdown",
   "metadata": {
    "id": "HCHJN2tjwemu",
    "tags": []
   },
   "source": [
    "## **2.2 Ajuste e Previsão**"
   ]
  },
  {
   "cell_type": "code",
   "execution_count": 22,
   "metadata": {
    "tags": []
   },
   "outputs": [],
   "source": [
    "from pyspark.ml.classification import LogisticRegression\n",
    "from pyspark.ml.tuning import CrossValidator, ParamGridBuilder\n",
    "from pyspark.ml.evaluation import BinaryClassificationEvaluator"
   ]
  },
  {
   "cell_type": "code",
   "execution_count": 23,
   "metadata": {
    "id": "vPX_7AW6xM8F"
   },
   "outputs": [
    {
     "name": "stdout",
     "output_type": "stream",
     "text": [
      "Melhor regParam: 0.01\n",
      "Melhor elasticNetParam: 0.0\n",
      "Melhor maxIter: 50\n"
     ]
    }
   ],
   "source": [
    "# Criação do modelo de Regressão Logística\n",
    "lr = LogisticRegression()\n",
    "\n",
    "# Definindo a métrica de avaliação\n",
    "evaluator = BinaryClassificationEvaluator(metricName=\"areaUnderROC\")\n",
    "\n",
    "# Configurando o grid de parâmetros\n",
    "grid = ParamGridBuilder()\\\n",
    "    .addGrid(lr.regParam, [0.01, 0.1, 1.0])\\\n",
    "    .addGrid(lr.elasticNetParam, [0.0, 0.5, 1.0])\\\n",
    "    .addGrid(lr.maxIter, [10, 50, 100])\\\n",
    "    .build()\n",
    "\n",
    "# Configurando o CrossValidator\n",
    "cv = CrossValidator(\n",
    "    estimator=lr,\n",
    "    estimatorParamMaps=grid,\n",
    "    evaluator=evaluator,\n",
    "    numFolds=3,\n",
    "    seed=42\n",
    ")\n",
    "\n",
    "# Ajusta o CrossValidator com o DataFrame de treino transformado\n",
    "modelo_lr = cv.fit(train_df_transformed_prep)\n",
    "\n",
    "# Obtendo o melhor modelo\n",
    "best_model = modelo_lr.bestModel\n",
    "\n",
    "# Extraindo os melhores hiperparâmetros\n",
    "best_reg_param = best_model.getRegParam()\n",
    "best_elastic_net_param = best_model.getElasticNetParam()\n",
    "best_max_iter = best_model.getMaxIter()\n",
    "\n",
    "print(f\"Melhor regParam: {best_reg_param}\")\n",
    "print(f\"Melhor elasticNetParam: {best_elastic_net_param}\")\n",
    "print(f\"Melhor maxIter: {best_max_iter}\")\n"
   ]
  },
  {
   "cell_type": "code",
   "execution_count": 24,
   "metadata": {
    "tags": []
   },
   "outputs": [
    {
     "name": "stdout",
     "output_type": "stream",
     "text": [
      "Melhores hiperparâmetros encontrados: {Param(parent='LogisticRegression_6d12eab82dc1', name='regParam', doc='regularization parameter (>= 0).'): 0.01, Param(parent='LogisticRegression_6d12eab82dc1', name='elasticNetParam', doc='the ElasticNet mixing parameter, in range [0, 1]. For alpha = 0, the penalty is an L2 penalty. For alpha = 1, it is an L1 penalty.'): 0.0, Param(parent='LogisticRegression_6d12eab82dc1', name='maxIter', doc='max number of iterations (>= 0).'): 50}\n"
     ]
    }
   ],
   "source": [
    "# Obter o grid de parâmetros\n",
    "paramMaps = cv.getEstimatorParamMaps()\n",
    "\n",
    "# Obter o índice do melhor modelo\n",
    "# O índice do melhor modelo é o mesmo do grid de parâmetros\n",
    "best_metrics = modelo_lr.avgMetrics\n",
    "best_metric = max(best_metrics)  # A métrica máxima (supondo que estamos maximizando a métrica)\n",
    "best_index = best_metrics.index(best_metric)\n",
    "\n",
    "# Obter os melhores parâmetros\n",
    "best_params = paramMaps[best_index]\n",
    "print(f\"Melhores hiperparâmetros encontrados: {best_params}\")"
   ]
  },
  {
   "cell_type": "code",
   "execution_count": 25,
   "metadata": {
    "tags": []
   },
   "outputs": [],
   "source": [
    "# Criando um novo modelo de Regressão Logística com os melhores hiperparâmetros\n",
    "best_lr = LogisticRegression(\n",
    "    regParam=best_reg_param,\n",
    "    elasticNetParam=best_elastic_net_param,\n",
    "    maxIter=best_max_iter\n",
    ")\n",
    "# Ajustando o novo modelo com o DataFrame de treino\n",
    "best_lr_model = best_lr.fit(train_df_transformed_prep)"
   ]
  },
  {
   "cell_type": "code",
   "execution_count": 26,
   "metadata": {
    "tags": []
   },
   "outputs": [],
   "source": [
    "## Salvando o modelo\n",
    "best_lr_model.save(f'{caminho_modelo}/Regressor_logistico_{n}')"
   ]
  },
  {
   "cell_type": "code",
   "execution_count": 27,
   "metadata": {
    "id": "AcjWWD5UGf--",
    "tags": []
   },
   "outputs": [],
   "source": [
    "resumo_lr_treino = best_lr_model.summary"
   ]
  },
  {
   "cell_type": "code",
   "execution_count": 28,
   "metadata": {
    "colab": {
     "base_uri": "https://localhost:8080/"
    },
    "id": "SANflogKDTX4",
    "outputId": "b4ab18f9-6dd3-4de8-fb89-e69f7975fe21",
    "tags": []
   },
   "outputs": [
    {
     "name": "stdout",
     "output_type": "stream",
     "text": [
      "METRICAS RESUMO DO TREINO\n",
      "--------\n",
      "Acurácia: 0.784536\n",
      "Precisão: 0.768398\n",
      "Recall: 0.809974\n",
      "F1: 0.788639\n"
     ]
    }
   ],
   "source": [
    "print('METRICAS RESUMO DO TREINO')\n",
    "print('--------')\n",
    "print(\"Acurácia: %f\" % resumo_lr_treino.accuracy)\n",
    "print(\"Precisão: %f\" % resumo_lr_treino.precisionByLabel[1])\n",
    "print(\"Recall: %f\" % resumo_lr_treino.recallByLabel[1])\n",
    "print(\"F1: %f\" % resumo_lr_treino.fMeasureByLabel()[1])"
   ]
  },
  {
   "cell_type": "markdown",
   "metadata": {
    "id": "sZHCjR2twqLt",
    "tags": []
   },
   "source": [
    "## **2.3 Métricas BASE DE VALIDAÇÃO**\n",
    "\n",
    "<font size=2>**Documentação:**</font>\n",
    "<font size=2>[LogisticRegressionTrainingSummary](https://spark.apache.org/docs/latest/api/python/reference/api/pyspark.ml.classification.LogisticRegressionTrainingSummary.html)</font>"
   ]
  },
  {
   "cell_type": "code",
   "execution_count": 29,
   "metadata": {
    "tags": []
   },
   "outputs": [],
   "source": [
    "# Faz previsões\n",
    "predictions_val = best_lr_model.transform(val_df_transformed_prep)\n",
    "predictions_val.write.mode('overwrite').orc(f'work/data/final/predictions_val_{n}.orc')"
   ]
  },
  {
   "cell_type": "code",
   "execution_count": 30,
   "metadata": {
    "colab": {
     "base_uri": "https://localhost:8080/"
    },
    "id": "PmIsEpfg0gj2",
    "outputId": "6a52e918-84b8-4001-a86d-1c4bac772eae",
    "tags": []
   },
   "outputs": [],
   "source": [
    "# predictions_val.show(truncate=False)\n",
    "# +-----------------------------------------------------------------------------------------------------------+-----+------------------------------------------+----------------------------------------+----------+\n",
    "# |features                                                                                                   |label|rawPrediction                             |probability                             |prediction|\n",
    "# +-----------------------------------------------------------------------------------------------------------+-----+------------------------------------------+----------------------------------------+----------+\n",
    "# |(24,[1,2,5,6,10,11,12,13,14,18,23],[12.0,75.85,1.0,1.0,1.0,1.0,1.0,1.0,1.0,1.0,1.0])                       |0    |[0.05103567311346513,-0.05103567311346513]|[0.5127561496338285,0.48724385036617146]|0.0       |\n",
    "# |(24,[1,2,3,5,8,12,13,14,19,21],[69.0,61.45,1.0,1.0,1.0,1.0,1.0,1.0,1.0,1.0])                               |0    |[2.382789551862372,-2.382789551862372]    |[0.9155054708840569,0.08449452911594313]|0.0       |\n",
    "# |(24,[1,2,3,5,12,13,15,17,22],[46.0,80.8824189403559,1.0,1.0,1.0,1.0,1.0,1.0,1.0])                          |1    |[-1.1704365714764247,1.1704365714764247]  |[0.23677608099237907,0.7632239190076209]|1.0       |"
   ]
  },
  {
   "cell_type": "code",
   "execution_count": 30,
   "metadata": {
    "tags": []
   },
   "outputs": [
    {
     "name": "stdout",
     "output_type": "stream",
     "text": [
      "METRICAS RESUMO DA BASE DE VALIDAÇÃO\n",
      "AUC ROC: 0.7897105323794532\n",
      "AUC PR: 0.7617664882695159\n",
      "KS: 0.5794210647589065\n"
     ]
    }
   ],
   "source": [
    "print('METRICAS RESUMO DA BASE DE VALIDAÇÃO')\n",
    "\n",
    "auc_roc = calculate_auc_roc(predictions_val)\n",
    "print(f\"AUC ROC: {auc_roc}\")\n",
    "auc_pr = calculate_auc_pr(predictions_val)\n",
    "print(f\"AUC PR: {auc_pr}\")\n",
    "ks = calculate_ks(predictions_val)\n",
    "print(f\"KS: {ks}\")"
   ]
  },
  {
   "cell_type": "code",
   "execution_count": 31,
   "metadata": {
    "colab": {
     "base_uri": "https://localhost:8080/"
    },
    "id": "NVSZDqgWIOdr",
    "outputId": "8bb57e0d-46a4-4481-c0b4-b3fb5a02119d",
    "tags": []
   },
   "outputs": [
    {
     "data": {
      "text/plain": [
       "{'TP': 870, 'TN': 774, 'FP': 235, 'FN': 201}"
      ]
     },
     "execution_count": 31,
     "metadata": {},
     "output_type": "execute_result"
    }
   ],
   "source": [
    "calculate_confusion_matrix(predictions_val)"
   ]
  },
  {
   "cell_type": "code",
   "execution_count": 32,
   "metadata": {
    "colab": {
     "base_uri": "https://localhost:8080/"
    },
    "id": "09sQOK-xLwkS",
    "outputId": "2eebdcd8-7cae-4d15-af12-d3807c47edd0",
    "tags": []
   },
   "outputs": [
    {
     "name": "stdout",
     "output_type": "stream",
     "text": [
      "                     Previsto\n",
      "                Churn       Não-Churn\n",
      "     Churn        870         201\n",
      "Real\n",
      "     Não-Churn    235         774\n"
     ]
    }
   ],
   "source": [
    "calcula_mostra_matriz_confusao(predictions_val, normalize=False)"
   ]
  },
  {
   "cell_type": "markdown",
   "metadata": {
    "tags": []
   },
   "source": [
    "## **2.4 Métricas BASE DE TESTE**"
   ]
  },
  {
   "cell_type": "code",
   "execution_count": 33,
   "metadata": {
    "tags": []
   },
   "outputs": [],
   "source": [
    "# Faz previsões\n",
    "predictions_test = best_lr_model.transform(test_df_transformed_prep)\n",
    "predictions_test.write.mode('overwrite').orc(f'work/data/final/predictions_test_{n}.orc')"
   ]
  },
  {
   "cell_type": "code",
   "execution_count": 34,
   "metadata": {
    "tags": []
   },
   "outputs": [
    {
     "name": "stdout",
     "output_type": "stream",
     "text": [
      "METRICAS RESUMO DA BASE DE TESTE\n",
      "AUC ROC: 0.7630023396167441\n",
      "AUC PR: 0.7168174012626157\n",
      "KS: 0.5260046792334883\n"
     ]
    }
   ],
   "source": [
    "print('METRICAS RESUMO DA BASE DE TESTE')\n",
    "\n",
    "auc_roc = calculate_auc_roc(predictions_test)\n",
    "print(f\"AUC ROC: {auc_roc}\")\n",
    "auc_pr = calculate_auc_pr(predictions_test)\n",
    "print(f\"AUC PR: {auc_pr}\")\n",
    "ks = calculate_ks(predictions_test)\n",
    "print(f\"KS: {ks}\")"
   ]
  },
  {
   "cell_type": "code",
   "execution_count": 35,
   "metadata": {
    "tags": []
   },
   "outputs": [
    {
     "data": {
      "text/plain": [
       "{'TP': 830, 'TN': 761, 'FP': 290, 'FN': 205}"
      ]
     },
     "execution_count": 35,
     "metadata": {},
     "output_type": "execute_result"
    }
   ],
   "source": [
    "calculate_confusion_matrix(predictions_test)"
   ]
  },
  {
   "cell_type": "code",
   "execution_count": 36,
   "metadata": {
    "tags": []
   },
   "outputs": [
    {
     "name": "stdout",
     "output_type": "stream",
     "text": [
      "                     Previsto\n",
      "                Churn       Não-Churn\n",
      "     Churn        830         205\n",
      "Real\n",
      "     Não-Churn    290         761\n"
     ]
    }
   ],
   "source": [
    "calcula_mostra_matriz_confusao(predictions_test, normalize=False)"
   ]
  },
  {
   "cell_type": "code",
   "execution_count": 37,
   "metadata": {
    "tags": []
   },
   "outputs": [
    {
     "name": "stdout",
     "output_type": "stream",
     "text": [
      "Tempo de execução: 0:12:24.153315\n"
     ]
    }
   ],
   "source": [
    "end_time = datetime.now()\n",
    "execution_time = end_time - start_time\n",
    "\n",
    "print(f\"Tempo de execução: {execution_time}\")"
   ]
  },
  {
   "cell_type": "code",
   "execution_count": 38,
   "metadata": {},
   "outputs": [],
   "source": [
    "# spark.stop()"
   ]
  }
 ],
 "metadata": {
  "colab": {
   "collapsed_sections": [
    "BsjP6Rz-sRkn"
   ],
   "name": "projeto.ipynb",
   "provenance": []
  },
  "kernelspec": {
   "display_name": "Python (Poetry)",
   "language": "python",
   "name": "sparklogimetrics"
  },
  "language_info": {
   "codemirror_mode": {
    "name": "ipython",
    "version": 3
   },
   "file_extension": ".py",
   "mimetype": "text/x-python",
   "name": "python",
   "nbconvert_exporter": "python",
   "pygments_lexer": "ipython3",
   "version": "3.10.10"
  }
 },
 "nbformat": 4,
 "nbformat_minor": 4
}
