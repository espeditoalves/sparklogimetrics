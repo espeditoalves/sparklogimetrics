{
 "cells": [
  {
   "cell_type": "code",
   "execution_count": 3,
   "metadata": {
    "tags": []
   },
   "outputs": [
    {
     "ename": "ModuleNotFoundError",
     "evalue": "No module named 'seaborn'",
     "output_type": "error",
     "traceback": [
      "\u001b[0;31m---------------------------------------------------------------------------\u001b[0m",
      "\u001b[0;31mModuleNotFoundError\u001b[0m                       Traceback (most recent call last)",
      "Cell \u001b[0;32mIn[3], line 3\u001b[0m\n\u001b[1;32m      1\u001b[0m \u001b[38;5;28;01mimport\u001b[39;00m \u001b[38;5;21;01mpandas\u001b[39;00m \u001b[38;5;28;01mas\u001b[39;00m \u001b[38;5;21;01mpd\u001b[39;00m\n\u001b[1;32m      2\u001b[0m \u001b[38;5;28;01mimport\u001b[39;00m \u001b[38;5;21;01mnumpy\u001b[39;00m \u001b[38;5;28;01mas\u001b[39;00m \u001b[38;5;21;01mnp\u001b[39;00m\n\u001b[0;32m----> 3\u001b[0m \u001b[38;5;28;01mimport\u001b[39;00m \u001b[38;5;21;01mseaborn\u001b[39;00m \u001b[38;5;28;01mas\u001b[39;00m \u001b[38;5;21;01msns\u001b[39;00m\n",
      "\u001b[0;31mModuleNotFoundError\u001b[0m: No module named 'seaborn'"
     ]
    }
   ],
   "source": [
    "import pandas as pd\n",
    "import numpy as np\n",
    "import seaborn as sns"
   ]
  },
  {
   "cell_type": "code",
   "execution_count": 2,
   "metadata": {
    "tags": []
   },
   "outputs": [
    {
     "name": "stdout",
     "output_type": "stream",
     "text": [
      "DataFrame Original:\n",
      "+-----+-----+----------+\n",
      "| Nome|Idade|     Cargo|\n",
      "+-----+-----+----------+\n",
      "| João|   30|Engenheiro|\n",
      "|Maria|   45|  Analista|\n",
      "|Pedro|   32|Engenheiro|\n",
      "|  Ana|   29|  Designer|\n",
      "|Lucas|   40|  Analista|\n",
      "|Julia|   35|  Designer|\n",
      "+-----+-----+----------+\n",
      "\n"
     ]
    }
   ],
   "source": [
    "from pyspark.sql import SparkSession\n",
    "from pyspark.sql.functions import col, avg\n",
    "\n",
    "# Cria uma SparkSession\n",
    "spark = SparkSession.builder \\\n",
    "    .appName(\"Exemplo PySpark\") \\\n",
    "    .getOrCreate()\n",
    "\n",
    "# Dados de exemplo\n",
    "dados = [\n",
    "    (\"João\", 30, \"Engenheiro\"),\n",
    "    (\"Maria\", 45, \"Analista\"),\n",
    "    (\"Pedro\", 32, \"Engenheiro\"),\n",
    "    (\"Ana\", 29, \"Designer\"),\n",
    "    (\"Lucas\", 40, \"Analista\"),\n",
    "    (\"Julia\", 35, \"Designer\")\n",
    "]\n",
    "\n",
    "# Cria um DataFrame a partir dos dados\n",
    "df = spark.createDataFrame(dados, [\"Nome\", \"Idade\", \"Cargo\"])\n",
    "\n",
    "# Mostra o DataFrame original\n",
    "print(\"DataFrame Original:\")\n",
    "df.show()"
   ]
  },
  {
   "cell_type": "code",
   "execution_count": null,
   "metadata": {},
   "outputs": [],
   "source": []
  },
  {
   "cell_type": "code",
   "execution_count": null,
   "metadata": {},
   "outputs": [],
   "source": []
  }
 ],
 "metadata": {
  "kernelspec": {
   "display_name": "Python (Poetry)",
   "language": "python",
   "name": "image-spark-project-py3.10"
  },
  "language_info": {
   "codemirror_mode": {
    "name": "ipython",
    "version": 3
   },
   "file_extension": ".py",
   "mimetype": "text/x-python",
   "name": "python",
   "nbconvert_exporter": "python",
   "pygments_lexer": "ipython3",
   "version": "3.10.10"
  }
 },
 "nbformat": 4,
 "nbformat_minor": 4
}
