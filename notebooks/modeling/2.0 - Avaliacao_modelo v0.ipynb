{
 "cells": [
  {
   "cell_type": "markdown",
   "metadata": {
    "tags": []
   },
   "source": [
    "# **1. Introdução**"
   ]
  },
  {
   "cell_type": "markdown",
   "metadata": {},
   "source": []
  },
  {
   "cell_type": "markdown",
   "metadata": {},
   "source": [
    "## **1.1 Carregando o pyspark**"
   ]
  },
  {
   "cell_type": "code",
   "execution_count": 1,
   "metadata": {
    "id": "H02jOAtLOpQY"
   },
   "outputs": [],
   "source": [
    "from pyspark.sql import SparkSession\n",
    "spark = SparkSession.builder.master('local[*]').appName(\"Avaliação do modelo - Teste Estatistico\").getOrCreate()"
   ]
  },
  {
   "cell_type": "code",
   "execution_count": 2,
   "metadata": {
    "colab": {
     "base_uri": "https://localhost:8080/",
     "height": 219
    },
    "id": "YiVdw80-dQhs",
    "outputId": "88de605a-4e05-44b3-9fdf-70046a7d9e0b"
   },
   "outputs": [
    {
     "data": {
      "text/html": [
       "\n",
       "            <div>\n",
       "                <p><b>SparkSession - in-memory</b></p>\n",
       "                \n",
       "        <div>\n",
       "            <p><b>SparkContext</b></p>\n",
       "\n",
       "            <p><a href=\"http://c234e0b1fe31:4040\">Spark UI</a></p>\n",
       "\n",
       "            <dl>\n",
       "              <dt>Version</dt>\n",
       "                <dd><code>v3.3.2</code></dd>\n",
       "              <dt>Master</dt>\n",
       "                <dd><code>local[*]</code></dd>\n",
       "              <dt>AppName</dt>\n",
       "                <dd><code>Avaliação do modelo - Teste Estatistico</code></dd>\n",
       "            </dl>\n",
       "        </div>\n",
       "        \n",
       "            </div>\n",
       "        "
      ],
      "text/plain": [
       "<pyspark.sql.session.SparkSession at 0x7fc1d247f610>"
      ]
     },
     "execution_count": 2,
     "metadata": {},
     "output_type": "execute_result"
    }
   ],
   "source": [
    "spark"
   ]
  },
  {
   "cell_type": "markdown",
   "metadata": {
    "tags": []
   },
   "source": [
    "## **1.2 Carregando as principais funções**"
   ]
  },
  {
   "cell_type": "code",
   "execution_count": 4,
   "metadata": {},
   "outputs": [
    {
     "name": "stdout",
     "output_type": "stream",
     "text": [
      "Caminho do diretório atual: /home/jovyan/work\n"
     ]
    }
   ],
   "source": [
    "import os\n",
    "\n",
    "# Exibir o caminho do diretório atual\n",
    "print(\"Caminho do diretório atual:\", os.getcwd())"
   ]
  },
  {
   "cell_type": "code",
   "execution_count": 5,
   "metadata": {},
   "outputs": [
    {
     "ename": "ModuleNotFoundError",
     "evalue": "No module named 'poetry'",
     "output_type": "error",
     "traceback": [
      "\u001b[0;31m---------------------------------------------------------------------------\u001b[0m",
      "\u001b[0;31mModuleNotFoundError\u001b[0m                       Traceback (most recent call last)",
      "Cell \u001b[0;32mIn[5], line 1\u001b[0m\n\u001b[0;32m----> 1\u001b[0m \u001b[38;5;28;01mimport\u001b[39;00m \u001b[38;5;21;01mpoetry\u001b[39;00m\n\u001b[1;32m      2\u001b[0m \u001b[38;5;28mprint\u001b[39m(poetry\u001b[38;5;241m.\u001b[39m__version__)\n",
      "\u001b[0;31mModuleNotFoundError\u001b[0m: No module named 'poetry'"
     ]
    }
   ],
   "source": [
    "import poetry\n",
    "print(poetry.__version__)\n"
   ]
  },
  {
   "cell_type": "code",
   "execution_count": 3,
   "metadata": {},
   "outputs": [
    {
     "ename": "ModuleNotFoundError",
     "evalue": "No module named 'scipy'",
     "output_type": "error",
     "traceback": [
      "\u001b[0;31m---------------------------------------------------------------------------\u001b[0m",
      "\u001b[0;31mModuleNotFoundError\u001b[0m                       Traceback (most recent call last)",
      "Cell \u001b[0;32mIn[3], line 12\u001b[0m\n\u001b[1;32m      9\u001b[0m \u001b[38;5;66;03m# Adiciona a pasta work ao sys.path\u001b[39;00m\n\u001b[1;32m     10\u001b[0m sys\u001b[38;5;241m.\u001b[39mpath\u001b[38;5;241m.\u001b[39mappend(\u001b[38;5;124m'\u001b[39m\u001b[38;5;124m/home/jovyan/\u001b[39m\u001b[38;5;124m'\u001b[39m)\n\u001b[0;32m---> 12\u001b[0m \u001b[38;5;28;01mfrom\u001b[39;00m \u001b[38;5;21;01mwork\u001b[39;00m\u001b[38;5;21;01m.\u001b[39;00m\u001b[38;5;21;01msrc\u001b[39;00m\u001b[38;5;21;01m.\u001b[39;00m\u001b[38;5;21;01mutils\u001b[39;00m \u001b[38;5;28;01mimport\u001b[39;00m \u001b[38;5;241m*\u001b[39m\n\u001b[1;32m     13\u001b[0m start_time \u001b[38;5;241m=\u001b[39m datetime\u001b[38;5;241m.\u001b[39mnow()\n\u001b[1;32m     16\u001b[0m n \u001b[38;5;241m=\u001b[39m \u001b[38;5;124m'\u001b[39m\u001b[38;5;124mbest_lr_model\u001b[39m\u001b[38;5;124m'\u001b[39m\n",
      "File \u001b[0;32m~/work/src/utils.py:3\u001b[0m\n\u001b[1;32m      1\u001b[0m \u001b[38;5;28;01mimport\u001b[39;00m \u001b[38;5;21;01mnumpy\u001b[39;00m \u001b[38;5;28;01mas\u001b[39;00m \u001b[38;5;21;01mnp\u001b[39;00m\n\u001b[1;32m      2\u001b[0m \u001b[38;5;28;01mimport\u001b[39;00m \u001b[38;5;21;01mpandas\u001b[39;00m \u001b[38;5;28;01mas\u001b[39;00m \u001b[38;5;21;01mpd\u001b[39;00m\n\u001b[0;32m----> 3\u001b[0m \u001b[38;5;28;01mimport\u001b[39;00m \u001b[38;5;21;01mscipy\u001b[39;00m\u001b[38;5;21;01m.\u001b[39;00m\u001b[38;5;21;01mstats\u001b[39;00m \u001b[38;5;28;01mas\u001b[39;00m \u001b[38;5;21;01mst\u001b[39;00m\n\u001b[1;32m      4\u001b[0m \u001b[38;5;28;01mimport\u001b[39;00m \u001b[38;5;21;01mmatplotlib\u001b[39;00m\u001b[38;5;21;01m.\u001b[39;00m\u001b[38;5;21;01mpyplot\u001b[39;00m \u001b[38;5;28;01mas\u001b[39;00m \u001b[38;5;21;01mplt\u001b[39;00m\n\u001b[1;32m      5\u001b[0m \u001b[38;5;28;01mfrom\u001b[39;00m \u001b[38;5;21;01mtyping\u001b[39;00m \u001b[38;5;28;01mimport\u001b[39;00m Union\n",
      "\u001b[0;31mModuleNotFoundError\u001b[0m: No module named 'scipy'"
     ]
    }
   ],
   "source": [
    "from pyspark.sql import functions as F\n",
    "from pyspark.ml.feature import VectorAssembler\n",
    "from pyspark.ml.classification import LogisticRegression\n",
    "import pandas as pd\n",
    "from datetime import datetime\n",
    "import sys\n",
    "import os\n",
    "\n",
    "# Adiciona a pasta work ao sys.path\n",
    "sys.path.append('/home/jovyan/')\n",
    "\n",
    "from work.src.utils import *\n",
    "start_time = datetime.now()\n",
    "\n",
    "\n",
    "n = 'best_lr_model'\n",
    "caminho_modelo = 'work/models'"
   ]
  },
  {
   "cell_type": "code",
   "execution_count": 4,
   "metadata": {},
   "outputs": [],
   "source": [
    "n_bootstrap = 5"
   ]
  },
  {
   "cell_type": "markdown",
   "metadata": {
    "id": "sZHCjR2twqLt",
    "tags": []
   },
   "source": [
    "## **2.3 Métricas BASE DE VALIDAÇÃO**\n",
    "\n",
    "<font size=2>**Documentação:**</font>\n",
    "<font size=2>[LogisticRegressionTrainingSummary](https://spark.apache.org/docs/latest/api/python/reference/api/pyspark.ml.classification.LogisticRegressionTrainingSummary.html)</font>"
   ]
  },
  {
   "cell_type": "code",
   "execution_count": 5,
   "metadata": {
    "tags": []
   },
   "outputs": [],
   "source": [
    "predictions_val = spark.read.orc(f'work/data/final/predictions_val_{n}.orc')"
   ]
  },
  {
   "cell_type": "code",
   "execution_count": 6,
   "metadata": {
    "colab": {
     "base_uri": "https://localhost:8080/"
    },
    "id": "PmIsEpfg0gj2",
    "outputId": "6a52e918-84b8-4001-a86d-1c4bac772eae",
    "tags": []
   },
   "outputs": [],
   "source": [
    "# predictions_val.show(truncate=False)\n",
    "# +-----------------------------------------------------------------------------------------------------------+-----+------------------------------------------+----------------------------------------+----------+\n",
    "# |features                                                                                                   |label|rawPrediction                             |probability                             |prediction|\n",
    "# +-----------------------------------------------------------------------------------------------------------+-----+------------------------------------------+----------------------------------------+----------+\n",
    "# |(24,[1,2,5,6,10,11,12,13,14,18,23],[12.0,75.85,1.0,1.0,1.0,1.0,1.0,1.0,1.0,1.0,1.0])                       |0    |[0.05103567311346513,-0.05103567311346513]|[0.5127561496338285,0.48724385036617146]|0.0       |\n",
    "# |(24,[1,2,3,5,8,12,13,14,19,21],[69.0,61.45,1.0,1.0,1.0,1.0,1.0,1.0,1.0,1.0])                               |0    |[2.382789551862372,-2.382789551862372]    |[0.9155054708840569,0.08449452911594313]|0.0       |\n",
    "# |(24,[1,2,3,5,12,13,15,17,22],[46.0,80.8824189403559,1.0,1.0,1.0,1.0,1.0,1.0,1.0])                          |1    |[-1.1704365714764247,1.1704365714764247]  |[0.23677608099237907,0.7632239190076209]|1.0       |"
   ]
  },
  {
   "cell_type": "code",
   "execution_count": 7,
   "metadata": {
    "tags": []
   },
   "outputs": [
    {
     "name": "stdout",
     "output_type": "stream",
     "text": [
      "METRICAS RESUMO DA BASE DE VALIDAÇÃO\n",
      "AUC ROC: 0.7897105323794532\n",
      "AUC PR: 0.7617664882695159\n",
      "KS: 0.5794210647589065\n"
     ]
    }
   ],
   "source": [
    "print('METRICAS RESUMO DA BASE DE VALIDAÇÃO')\n",
    "\n",
    "auc_roc = calculate_auc_roc(predictions_val)\n",
    "print(f\"AUC ROC: {auc_roc}\")\n",
    "auc_pr = calculate_auc_pr(predictions_val)\n",
    "print(f\"AUC PR: {auc_pr}\")\n",
    "ks = calculate_ks(predictions_val)\n",
    "print(f\"KS: {ks}\")"
   ]
  },
  {
   "cell_type": "code",
   "execution_count": 8,
   "metadata": {
    "colab": {
     "base_uri": "https://localhost:8080/"
    },
    "id": "NVSZDqgWIOdr",
    "outputId": "8bb57e0d-46a4-4481-c0b4-b3fb5a02119d",
    "tags": []
   },
   "outputs": [
    {
     "data": {
      "text/plain": [
       "{'TP': 870, 'TN': 774, 'FP': 235, 'FN': 201}"
      ]
     },
     "execution_count": 8,
     "metadata": {},
     "output_type": "execute_result"
    }
   ],
   "source": [
    "calculate_confusion_matrix(predictions_val)"
   ]
  },
  {
   "cell_type": "code",
   "execution_count": 9,
   "metadata": {
    "colab": {
     "base_uri": "https://localhost:8080/"
    },
    "id": "09sQOK-xLwkS",
    "outputId": "2eebdcd8-7cae-4d15-af12-d3807c47edd0",
    "tags": []
   },
   "outputs": [
    {
     "name": "stdout",
     "output_type": "stream",
     "text": [
      "                     Previsto\n",
      "                Churn       Não-Churn\n",
      "     Churn        870         201\n",
      "Real\n",
      "     Não-Churn    235         774\n"
     ]
    }
   ],
   "source": [
    "calcula_mostra_matriz_confusao(predictions_val, normalize=False)"
   ]
  },
  {
   "cell_type": "markdown",
   "metadata": {
    "tags": []
   },
   "source": [
    "## **2.4 Métricas BASE DE TESTE**"
   ]
  },
  {
   "cell_type": "code",
   "execution_count": 10,
   "metadata": {
    "tags": []
   },
   "outputs": [],
   "source": [
    "predictions_test = spark.read.orc(f'work/data/final/predictions_test_{n}.orc')"
   ]
  },
  {
   "cell_type": "code",
   "execution_count": 11,
   "metadata": {
    "tags": []
   },
   "outputs": [
    {
     "name": "stdout",
     "output_type": "stream",
     "text": [
      "METRICAS RESUMO DA BASE DE TESTE\n",
      "AUC ROC: 0.7630023396167441\n",
      "AUC PR: 0.7168174012626157\n",
      "KS: 0.5260046792334883\n"
     ]
    }
   ],
   "source": [
    "print('METRICAS RESUMO DA BASE DE TESTE')\n",
    "\n",
    "auc_roc = calculate_auc_roc(predictions_test)\n",
    "print(f\"AUC ROC: {auc_roc}\")\n",
    "auc_pr = calculate_auc_pr(predictions_test)\n",
    "print(f\"AUC PR: {auc_pr}\")\n",
    "ks = calculate_ks(predictions_test)\n",
    "print(f\"KS: {ks}\")"
   ]
  },
  {
   "cell_type": "code",
   "execution_count": 12,
   "metadata": {
    "tags": []
   },
   "outputs": [
    {
     "data": {
      "text/plain": [
       "{'TP': 830, 'TN': 761, 'FP': 290, 'FN': 205}"
      ]
     },
     "execution_count": 12,
     "metadata": {},
     "output_type": "execute_result"
    }
   ],
   "source": [
    "calculate_confusion_matrix(predictions_test)"
   ]
  },
  {
   "cell_type": "code",
   "execution_count": 13,
   "metadata": {
    "tags": []
   },
   "outputs": [
    {
     "name": "stdout",
     "output_type": "stream",
     "text": [
      "                     Previsto\n",
      "                Churn       Não-Churn\n",
      "     Churn        830         205\n",
      "Real\n",
      "     Não-Churn    290         761\n"
     ]
    }
   ],
   "source": [
    "calcula_mostra_matriz_confusao(predictions_test, normalize=False)"
   ]
  },
  {
   "cell_type": "markdown",
   "metadata": {
    "tags": []
   },
   "source": [
    "# **3. Boostramp, intervalos de confiança, Permutacion test**"
   ]
  },
  {
   "cell_type": "markdown",
   "metadata": {
    "tags": []
   },
   "source": [
    "## **3.1 Boostramp - VALIDAÇÃO**"
   ]
  },
  {
   "cell_type": "code",
   "execution_count": 14,
   "metadata": {
    "tags": []
   },
   "outputs": [
    {
     "data": {
      "text/plain": [
       "2080"
      ]
     },
     "execution_count": 14,
     "metadata": {},
     "output_type": "execute_result"
    }
   ],
   "source": [
    "predictions_val.count()"
   ]
  },
  {
   "cell_type": "code",
   "execution_count": 15,
   "metadata": {
    "tags": []
   },
   "outputs": [
    {
     "name": "stdout",
     "output_type": "stream",
     "text": [
      "Será realizada 5 iterações\n",
      "Execução iteração: 0\n",
      "Sample count: 2129\n",
      "---------------\n",
      "Execução iteração: 1\n",
      "Sample count: 2060\n",
      "---------------\n",
      "Execução iteração: 2\n",
      "Sample count: 2062\n",
      "---------------\n",
      "Execução iteração: 3\n",
      "Sample count: 2069\n",
      "---------------\n",
      "Execução iteração: 4\n",
      "Sample count: 2091\n",
      "---------------\n"
     ]
    }
   ],
   "source": [
    "# Calcule intervalos de confiança e média\n",
    "scores, resultados = bootstrap_metric_spark(\n",
    "    data = predictions_val, \n",
    "    n_bootstrap = n_bootstrap,\n",
    "    confidence_level = 0.95\n",
    "    )"
   ]
  },
  {
   "cell_type": "code",
   "execution_count": 16,
   "metadata": {
    "tags": []
   },
   "outputs": [
    {
     "data": {
      "text/html": [
       "<div>\n",
       "<style scoped>\n",
       "    .dataframe tbody tr th:only-of-type {\n",
       "        vertical-align: middle;\n",
       "    }\n",
       "\n",
       "    .dataframe tbody tr th {\n",
       "        vertical-align: top;\n",
       "    }\n",
       "\n",
       "    .dataframe thead th {\n",
       "        text-align: right;\n",
       "    }\n",
       "</style>\n",
       "<table border=\"1\" class=\"dataframe\">\n",
       "  <thead>\n",
       "    <tr style=\"text-align: right;\">\n",
       "      <th></th>\n",
       "      <th>confidence_interval</th>\n",
       "      <th>mean_score</th>\n",
       "      <th>std_dev</th>\n",
       "    </tr>\n",
       "  </thead>\n",
       "  <tbody>\n",
       "    <tr>\n",
       "      <th>ks</th>\n",
       "      <td>[0.5587163142695343, 0.5940801326675024]</td>\n",
       "      <td>0.579402</td>\n",
       "      <td>0.014293</td>\n",
       "    </tr>\n",
       "    <tr>\n",
       "      <th>auc</th>\n",
       "      <td>[0.7793581571347672, 0.7970400663337511]</td>\n",
       "      <td>0.789701</td>\n",
       "      <td>0.007146</td>\n",
       "    </tr>\n",
       "    <tr>\n",
       "      <th>auc_pr</th>\n",
       "      <td>[0.7587768523408239, 0.7755809192338347]</td>\n",
       "      <td>0.765438</td>\n",
       "      <td>0.007362</td>\n",
       "    </tr>\n",
       "  </tbody>\n",
       "</table>\n",
       "</div>"
      ],
      "text/plain": [
       "                             confidence_interval mean_score   std_dev\n",
       "ks      [0.5587163142695343, 0.5940801326675024]   0.579402  0.014293\n",
       "auc     [0.7793581571347672, 0.7970400663337511]   0.789701  0.007146\n",
       "auc_pr  [0.7587768523408239, 0.7755809192338347]   0.765438  0.007362"
      ]
     },
     "execution_count": 16,
     "metadata": {},
     "output_type": "execute_result"
    }
   ],
   "source": [
    "pd.DataFrame(resultados).T\n",
    "#   NESTE TESTE NÃO UTILIZO O TESTE T"
   ]
  },
  {
   "cell_type": "code",
   "execution_count": 17,
   "metadata": {
    "tags": []
   },
   "outputs": [
    {
     "data": {
      "text/html": [
       "<div>\n",
       "<style scoped>\n",
       "    .dataframe tbody tr th:only-of-type {\n",
       "        vertical-align: middle;\n",
       "    }\n",
       "\n",
       "    .dataframe tbody tr th {\n",
       "        vertical-align: top;\n",
       "    }\n",
       "\n",
       "    .dataframe thead th {\n",
       "        text-align: right;\n",
       "    }\n",
       "</style>\n",
       "<table border=\"1\" class=\"dataframe\">\n",
       "  <thead>\n",
       "    <tr style=\"text-align: right;\">\n",
       "      <th></th>\n",
       "      <th>ks.scores</th>\n",
       "      <th>auc.scores</th>\n",
       "      <th>auc_pr.scores</th>\n",
       "    </tr>\n",
       "  </thead>\n",
       "  <tbody>\n",
       "    <tr>\n",
       "      <th>0</th>\n",
       "      <td>0.583983</td>\n",
       "      <td>0.791992</td>\n",
       "      <td>0.769682</td>\n",
       "    </tr>\n",
       "    <tr>\n",
       "      <th>1</th>\n",
       "      <td>0.576596</td>\n",
       "      <td>0.788298</td>\n",
       "      <td>0.758596</td>\n",
       "    </tr>\n",
       "    <tr>\n",
       "      <th>2</th>\n",
       "      <td>0.556730</td>\n",
       "      <td>0.778365</td>\n",
       "      <td>0.762273</td>\n",
       "    </tr>\n",
       "    <tr>\n",
       "      <th>3</th>\n",
       "      <td>0.595138</td>\n",
       "      <td>0.797569</td>\n",
       "      <td>0.776236</td>\n",
       "    </tr>\n",
       "    <tr>\n",
       "      <th>4</th>\n",
       "      <td>0.584564</td>\n",
       "      <td>0.792282</td>\n",
       "      <td>0.760402</td>\n",
       "    </tr>\n",
       "  </tbody>\n",
       "</table>\n",
       "</div>"
      ],
      "text/plain": [
       "   ks.scores  auc.scores  auc_pr.scores\n",
       "0   0.583983    0.791992       0.769682\n",
       "1   0.576596    0.788298       0.758596\n",
       "2   0.556730    0.778365       0.762273\n",
       "3   0.595138    0.797569       0.776236\n",
       "4   0.584564    0.792282       0.760402"
      ]
     },
     "execution_count": 17,
     "metadata": {},
     "output_type": "execute_result"
    }
   ],
   "source": [
    "scores_df = df_scores(scores)\n",
    "scores_df\n",
    "\n",
    "# ks.scores\tauc.scores\tauc_pr.scores\n",
    "# 0\t0.583983\t0.791992\t0.769682\n",
    "# 1\t0.576596\t0.788298\t0.758596\n",
    "# 2\t0.556730\t0.778365\t0.762273\n",
    "# 3\t0.595138\t0.797569\t0.776236\n",
    "# 4\t0.584564\t0.792282\t0.760402"
   ]
  },
  {
   "cell_type": "markdown",
   "metadata": {
    "tags": []
   },
   "source": [
    "## **3.2 Boostramp e Permutacion test**\n",
    "\n",
    "* BASE: VALIDAÇÃO\n",
    "* BASE: TESTE"
   ]
  },
  {
   "cell_type": "code",
   "execution_count": 18,
   "metadata": {
    "tags": []
   },
   "outputs": [
    {
     "name": "stdout",
     "output_type": "stream",
     "text": [
      "2080\n",
      "2086\n"
     ]
    }
   ],
   "source": [
    "print(predictions_val.count())\n",
    "print(predictions_test.count())\n",
    "# 2080\n",
    "# 2086"
   ]
  },
  {
   "cell_type": "code",
   "execution_count": 19,
   "metadata": {
    "tags": []
   },
   "outputs": [
    {
     "name": "stdout",
     "output_type": "stream",
     "text": [
      "Iteração 1/5\n",
      "Sample1 count: 2129\n",
      "Sample2 count: 2136\n",
      "----------\n",
      "Iteração 2/5\n",
      "Sample1 count: 2060\n",
      "Sample2 count: 2066\n",
      "----------\n",
      "Iteração 3/5\n",
      "Sample1 count: 2062\n",
      "Sample2 count: 2066\n",
      "----------\n",
      "Iteração 4/5\n",
      "Sample1 count: 2069\n",
      "Sample2 count: 2075\n",
      "----------\n",
      "Iteração 5/5\n",
      "Sample1 count: 2091\n",
      "Sample2 count: 2095\n",
      "----------\n",
      "########################################\n",
      "ks\n",
      "* Intervalo do bin: 0.009\n"
     ]
    },
    {
     "data": {
      "image/png": "[encoded data removed]",
      "text/plain": [
       "<Figure size 640x480 with 1 Axes>"
      ]
     },
     "metadata": {},
     "output_type": "display_data"
    },
    {
     "name": "stdout",
     "output_type": "stream",
     "text": [
      "\n",
      " Teste de Significancia \n",
      "**$H_0$:** Diferença entre as médias das métricas é zero. \n",
      "\n",
      " Arrays sizes: 5, 5 \n",
      "* Difference between averages: 0.5794 - 0.5276 = 0.0518\n",
      "* p_val = 0.0049 \n",
      "The model seems to produce different results with CI-0.95 (reject H0).\n",
      "\n",
      "########################################\n",
      "auc\n",
      "* Intervalo do bin: 0.005\n"
     ]
    },
    {
     "data": {
      "image/png": "[encoded data removed]",
      "text/plain": [
       "<Figure size 640x480 with 1 Axes>"
      ]
     },
     "metadata": {},
     "output_type": "display_data"
    },
    {
     "name": "stdout",
     "output_type": "stream",
     "text": [
      "\n",
      " Teste de Significancia \n",
      "**$H_0$:** Diferença entre as médias das métricas é zero. \n",
      "\n",
      " Arrays sizes: 5, 5 \n",
      "* Difference between averages: 0.7897 - 0.7638 = 0.0259\n",
      "* p_val = 0.0049 \n",
      "The model seems to produce different results with CI-0.95 (reject H0).\n",
      "\n",
      "########################################\n",
      "auc_pr\n",
      "* Intervalo do bin: 0.007\n"
     ]
    },
    {
     "data": {
      "image/png": "[encoded data removed]",
      "text/plain": [
       "<Figure size 640x480 with 1 Axes>"
      ]
     },
     "metadata": {},
     "output_type": "display_data"
    },
    {
     "name": "stdout",
     "output_type": "stream",
     "text": [
      "\n",
      " Teste de Significancia \n",
      "**$H_0$:** Diferença entre as médias das métricas é zero. \n",
      "\n",
      " Arrays sizes: 5, 5 \n",
      "* Difference between averages: 0.7654 - 0.7160 = 0.0494\n",
      "* p_val = 0.0018 \n",
      "The model seems to produce different results with CI-0.95 (reject H0).\n",
      "\n"
     ]
    }
   ],
   "source": [
    "scores_results_permutacion, intervarlos_results = bootstrap_metric_spark_permutacion(\n",
    "    data1 = predictions_val, \n",
    "    data2 = predictions_test, \n",
    "    n_bootstrap = n_bootstrap,\n",
    "    confidence_level = 0.95\n",
    "    )"
   ]
  },
  {
   "cell_type": "code",
   "execution_count": 20,
   "metadata": {
    "tags": []
   },
   "outputs": [
    {
     "data": {
      "text/html": [
       "<div>\n",
       "<style scoped>\n",
       "    .dataframe tbody tr th:only-of-type {\n",
       "        vertical-align: middle;\n",
       "    }\n",
       "\n",
       "    .dataframe tbody tr th {\n",
       "        vertical-align: top;\n",
       "    }\n",
       "\n",
       "    .dataframe thead th {\n",
       "        text-align: right;\n",
       "    }\n",
       "</style>\n",
       "<table border=\"1\" class=\"dataframe\">\n",
       "  <thead>\n",
       "    <tr style=\"text-align: right;\">\n",
       "      <th></th>\n",
       "      <th>confidence_interval1</th>\n",
       "      <th>mean_score1</th>\n",
       "      <th>std_dev1</th>\n",
       "      <th>confidence_interval2</th>\n",
       "      <th>mean_score2</th>\n",
       "      <th>std_dev2</th>\n",
       "    </tr>\n",
       "  </thead>\n",
       "  <tbody>\n",
       "    <tr>\n",
       "      <th>ks</th>\n",
       "      <td>[0.5616550469597459, 0.5971489814132092]</td>\n",
       "      <td>0.579402</td>\n",
       "      <td>0.014293</td>\n",
       "      <td>[0.4962198465647983, 0.5589234802400616]</td>\n",
       "      <td>0.527572</td>\n",
       "      <td>0.02525</td>\n",
       "    </tr>\n",
       "    <tr>\n",
       "      <th>auc</th>\n",
       "      <td>[0.7808275234798729, 0.7985744907066044]</td>\n",
       "      <td>0.789701</td>\n",
       "      <td>0.007146</td>\n",
       "      <td>[0.7481099232823993, 0.7794617401200308]</td>\n",
       "      <td>0.763786</td>\n",
       "      <td>0.012625</td>\n",
       "    </tr>\n",
       "    <tr>\n",
       "      <th>auc_pr</th>\n",
       "      <td>[0.7562967286806118, 0.7745793430370161]</td>\n",
       "      <td>0.765438</td>\n",
       "      <td>0.007362</td>\n",
       "      <td>[0.699250927290684, 0.7327510841361179]</td>\n",
       "      <td>0.716001</td>\n",
       "      <td>0.01349</td>\n",
       "    </tr>\n",
       "  </tbody>\n",
       "</table>\n",
       "</div>"
      ],
      "text/plain": [
       "                            confidence_interval1 mean_score1  std_dev1  \\\n",
       "ks      [0.5616550469597459, 0.5971489814132092]    0.579402  0.014293   \n",
       "auc     [0.7808275234798729, 0.7985744907066044]    0.789701  0.007146   \n",
       "auc_pr  [0.7562967286806118, 0.7745793430370161]    0.765438  0.007362   \n",
       "\n",
       "                            confidence_interval2 mean_score2  std_dev2  \n",
       "ks      [0.4962198465647983, 0.5589234802400616]    0.527572   0.02525  \n",
       "auc     [0.7481099232823993, 0.7794617401200308]    0.763786  0.012625  \n",
       "auc_pr   [0.699250927290684, 0.7327510841361179]    0.716001   0.01349  "
      ]
     },
     "execution_count": 20,
     "metadata": {},
     "output_type": "execute_result"
    }
   ],
   "source": [
    "pd.DataFrame(intervarlos_results).T\n",
    "# ESSE COMENTÁRIO NÃO UTILIZA O TESTE T\n",
    "# \tconfidence_interval1\tmean_score1\tstd_dev1\tconfidence_interval2\tmean_score2\tstd_dev2\n",
    "# ks\t[0.5587163142695343, 0.5940801326675024]\t0.579402\t0.014293\t[0.4926559689045311, 0.5510315509616689]\t0.527572\t0.02525\n",
    "# auc\t[0.7793581571347672, 0.7970400663337511]\t0.789701\t0.007146\t[0.7463279844522657, 0.7755157754808344]\t0.763786\t0.012625\n",
    "# auc_pr\t[0.7587768523408239, 0.7755809192338347]\t0.765438\t0.007362\t[0.6988262164456484, 0.7300824389636984]\t0.716001\t0.01349"
   ]
  },
  {
   "cell_type": "code",
   "execution_count": 21,
   "metadata": {
    "tags": []
   },
   "outputs": [
    {
     "name": "stdout",
     "output_type": "stream",
     "text": [
      "KS p_value': 0.0049\n",
      "KS mean_diff': 0.05183035078404763\n",
      "auc p_value: 0.0049\n",
      "auc mean_diff: 0.025915175392023593\n",
      "auc_pr p_value: 0.0018\n",
      "auc_pr mean_diff: 0.04943703014541301\n"
     ]
    },
    {
     "data": {
      "text/html": [
       "<div>\n",
       "<style scoped>\n",
       "    .dataframe tbody tr th:only-of-type {\n",
       "        vertical-align: middle;\n",
       "    }\n",
       "\n",
       "    .dataframe tbody tr th {\n",
       "        vertical-align: top;\n",
       "    }\n",
       "\n",
       "    .dataframe thead th {\n",
       "        text-align: right;\n",
       "    }\n",
       "</style>\n",
       "<table border=\"1\" class=\"dataframe\">\n",
       "  <thead>\n",
       "    <tr style=\"text-align: right;\">\n",
       "      <th></th>\n",
       "      <th>ks.scores1</th>\n",
       "      <th>ks.scores2</th>\n",
       "      <th>auc.scores1</th>\n",
       "      <th>auc.scores2</th>\n",
       "      <th>auc_pr.scores1</th>\n",
       "      <th>auc_pr.scores2</th>\n",
       "    </tr>\n",
       "  </thead>\n",
       "  <tbody>\n",
       "    <tr>\n",
       "      <th>0</th>\n",
       "      <td>0.583983</td>\n",
       "      <td>0.490242</td>\n",
       "      <td>0.791992</td>\n",
       "      <td>0.745121</td>\n",
       "      <td>0.769682</td>\n",
       "      <td>0.706142</td>\n",
       "    </tr>\n",
       "    <tr>\n",
       "      <th>1</th>\n",
       "      <td>0.576596</td>\n",
       "      <td>0.551584</td>\n",
       "      <td>0.788298</td>\n",
       "      <td>0.775792</td>\n",
       "      <td>0.758596</td>\n",
       "      <td>0.723848</td>\n",
       "    </tr>\n",
       "    <tr>\n",
       "      <th>2</th>\n",
       "      <td>0.556730</td>\n",
       "      <td>0.514383</td>\n",
       "      <td>0.778365</td>\n",
       "      <td>0.757191</td>\n",
       "      <td>0.762273</td>\n",
       "      <td>0.721227</td>\n",
       "    </tr>\n",
       "    <tr>\n",
       "      <th>3</th>\n",
       "      <td>0.595138</td>\n",
       "      <td>0.535587</td>\n",
       "      <td>0.797569</td>\n",
       "      <td>0.767793</td>\n",
       "      <td>0.776236</td>\n",
       "      <td>0.730775</td>\n",
       "    </tr>\n",
       "    <tr>\n",
       "      <th>4</th>\n",
       "      <td>0.584564</td>\n",
       "      <td>0.546064</td>\n",
       "      <td>0.792282</td>\n",
       "      <td>0.773032</td>\n",
       "      <td>0.760402</td>\n",
       "      <td>0.698013</td>\n",
       "    </tr>\n",
       "  </tbody>\n",
       "</table>\n",
       "</div>"
      ],
      "text/plain": [
       "   ks.scores1  ks.scores2  auc.scores1  auc.scores2  auc_pr.scores1  \\\n",
       "0    0.583983    0.490242     0.791992     0.745121        0.769682   \n",
       "1    0.576596    0.551584     0.788298     0.775792        0.758596   \n",
       "2    0.556730    0.514383     0.778365     0.757191        0.762273   \n",
       "3    0.595138    0.535587     0.797569     0.767793        0.776236   \n",
       "4    0.584564    0.546064     0.792282     0.773032        0.760402   \n",
       "\n",
       "   auc_pr.scores2  \n",
       "0        0.706142  \n",
       "1        0.723848  \n",
       "2        0.721227  \n",
       "3        0.730775  \n",
       "4        0.698013  "
      ]
     },
     "execution_count": 21,
     "metadata": {},
     "output_type": "execute_result"
    }
   ],
   "source": [
    "df_scores_result = df_scores_1_2(scores_results_permutacion)\n",
    "df_scores_result\n"
   ]
  },
  {
   "cell_type": "markdown",
   "metadata": {
    "tags": []
   },
   "source": [
    "# **4. Tempo de execução**"
   ]
  },
  {
   "cell_type": "code",
   "execution_count": 22,
   "metadata": {
    "tags": []
   },
   "outputs": [
    {
     "name": "stdout",
     "output_type": "stream",
     "text": [
      "Tempo de execução: 0:01:00.579998\n"
     ]
    }
   ],
   "source": [
    "end_time = datetime.now()\n",
    "execution_time = end_time - start_time\n",
    "\n",
    "print(f\"Tempo de execução: {execution_time}\")\n"
   ]
  }
 ],
 "metadata": {
  "colab": {
   "collapsed_sections": [
    "BsjP6Rz-sRkn"
   ],
   "name": "projeto.ipynb",
   "provenance": []
  },
  "kernelspec": {
   "display_name": "Python (Poetry)",
   "language": "python",
   "name": "image-spark-project-py3.10"
  },
  "language_info": {
   "codemirror_mode": {
    "name": "ipython",
    "version": 3
   },
   "file_extension": ".py",
   "mimetype": "text/x-python",
   "name": "python",
   "nbconvert_exporter": "python",
   "pygments_lexer": "ipython3",
   "version": "3.10.10"
  }
 },
 "nbformat": 4,
 "nbformat_minor": 4
}
